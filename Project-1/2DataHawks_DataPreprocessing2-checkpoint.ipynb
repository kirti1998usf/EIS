{
 "cells": [
  {
   "cell_type": "code",
   "execution_count": 81,
   "id": "0f2488c1-3834-489a-af8a-e15cacd38e1a",
   "metadata": {
    "tags": []
   },
   "outputs": [],
   "source": [
    "import matplotlib.pyplot as plt\n",
    "import pandas as pd \n",
    "import numpy as np    \n",
    "    \n",
    "from sklearn.model_selection import train_test_split\n",
    "\n",
    "from sklearn.linear_model import LogisticRegression\n",
    "from sklearn.ensemble import RandomForestClassifier\n",
    "\n",
    "from sklearn.preprocessing import StandardScaler \n",
    "from imblearn.over_sampling import RandomOverSampler, SMOTE, ADASYN\n",
    "from imblearn.under_sampling import RandomUnderSampler\n",
    "\n",
    "\n",
    "from sklearn.metrics import confusion_matrix,roc_curve, roc_auc_score,accuracy_score, recall_score, precision_score, f1_score,precision_recall_curve,ConfusionMatrixDisplay,classification_report"
   ]
  },
  {
   "cell_type": "code",
   "execution_count": 2,
   "id": "a324a39a-e71e-417c-afcd-f745f8335556",
   "metadata": {
    "tags": []
   },
   "outputs": [
    {
     "name": "stderr",
     "output_type": "stream",
     "text": [
      "C:\\Users\\navee\\AppData\\Local\\Temp\\ipykernel_19780\\1493456993.py:1: DtypeWarning: Columns (10) have mixed types. Specify dtype option on import or set low_memory=False.\n",
      "  df = pd.read_csv(\"diabetic_data.csv\")\n"
     ]
    }
   ],
   "source": [
    "df = pd.read_csv(\"diabetic_data.csv\")"
   ]
  },
  {
   "cell_type": "code",
   "execution_count": 3,
   "id": "1b3f5490-6322-40e1-9235-ea3eef4329cf",
   "metadata": {
    "tags": []
   },
   "outputs": [
    {
     "data": {
      "text/html": [
       "<div>\n",
       "<style scoped>\n",
       "    .dataframe tbody tr th:only-of-type {\n",
       "        vertical-align: middle;\n",
       "    }\n",
       "\n",
       "    .dataframe tbody tr th {\n",
       "        vertical-align: top;\n",
       "    }\n",
       "\n",
       "    .dataframe thead th {\n",
       "        text-align: right;\n",
       "    }\n",
       "</style>\n",
       "<table border=\"1\" class=\"dataframe\">\n",
       "  <thead>\n",
       "    <tr style=\"text-align: right;\">\n",
       "      <th></th>\n",
       "      <th>encounter_id</th>\n",
       "      <th>patient_nbr</th>\n",
       "      <th>race</th>\n",
       "      <th>gender</th>\n",
       "      <th>age</th>\n",
       "      <th>weight</th>\n",
       "      <th>admission_type_id</th>\n",
       "      <th>discharge_disposition_id</th>\n",
       "      <th>admission_source_id</th>\n",
       "      <th>time_in_hospital</th>\n",
       "      <th>...</th>\n",
       "      <th>citoglipton</th>\n",
       "      <th>insulin</th>\n",
       "      <th>glyburide-metformin</th>\n",
       "      <th>glipizide-metformin</th>\n",
       "      <th>glimepiride-pioglitazone</th>\n",
       "      <th>metformin-rosiglitazone</th>\n",
       "      <th>metformin-pioglitazone</th>\n",
       "      <th>change</th>\n",
       "      <th>diabetesMed</th>\n",
       "      <th>readmitted</th>\n",
       "    </tr>\n",
       "  </thead>\n",
       "  <tbody>\n",
       "    <tr>\n",
       "      <th>0</th>\n",
       "      <td>2278392</td>\n",
       "      <td>8222157</td>\n",
       "      <td>Caucasian</td>\n",
       "      <td>Female</td>\n",
       "      <td>[0-10)</td>\n",
       "      <td>NaN</td>\n",
       "      <td>6</td>\n",
       "      <td>25</td>\n",
       "      <td>1</td>\n",
       "      <td>1</td>\n",
       "      <td>...</td>\n",
       "      <td>No</td>\n",
       "      <td>No</td>\n",
       "      <td>No</td>\n",
       "      <td>No</td>\n",
       "      <td>No</td>\n",
       "      <td>No</td>\n",
       "      <td>No</td>\n",
       "      <td>No</td>\n",
       "      <td>No</td>\n",
       "      <td>NO</td>\n",
       "    </tr>\n",
       "    <tr>\n",
       "      <th>1</th>\n",
       "      <td>149190</td>\n",
       "      <td>55629189</td>\n",
       "      <td>Caucasian</td>\n",
       "      <td>Female</td>\n",
       "      <td>[10-20)</td>\n",
       "      <td>NaN</td>\n",
       "      <td>1</td>\n",
       "      <td>1</td>\n",
       "      <td>7</td>\n",
       "      <td>3</td>\n",
       "      <td>...</td>\n",
       "      <td>No</td>\n",
       "      <td>Up</td>\n",
       "      <td>No</td>\n",
       "      <td>No</td>\n",
       "      <td>No</td>\n",
       "      <td>No</td>\n",
       "      <td>No</td>\n",
       "      <td>Ch</td>\n",
       "      <td>Yes</td>\n",
       "      <td>&gt;30</td>\n",
       "    </tr>\n",
       "    <tr>\n",
       "      <th>2</th>\n",
       "      <td>64410</td>\n",
       "      <td>86047875</td>\n",
       "      <td>AfricanAmerican</td>\n",
       "      <td>Female</td>\n",
       "      <td>[20-30)</td>\n",
       "      <td>NaN</td>\n",
       "      <td>1</td>\n",
       "      <td>1</td>\n",
       "      <td>7</td>\n",
       "      <td>2</td>\n",
       "      <td>...</td>\n",
       "      <td>No</td>\n",
       "      <td>No</td>\n",
       "      <td>No</td>\n",
       "      <td>No</td>\n",
       "      <td>No</td>\n",
       "      <td>No</td>\n",
       "      <td>No</td>\n",
       "      <td>No</td>\n",
       "      <td>Yes</td>\n",
       "      <td>NO</td>\n",
       "    </tr>\n",
       "    <tr>\n",
       "      <th>3</th>\n",
       "      <td>500364</td>\n",
       "      <td>82442376</td>\n",
       "      <td>Caucasian</td>\n",
       "      <td>Male</td>\n",
       "      <td>[30-40)</td>\n",
       "      <td>NaN</td>\n",
       "      <td>1</td>\n",
       "      <td>1</td>\n",
       "      <td>7</td>\n",
       "      <td>2</td>\n",
       "      <td>...</td>\n",
       "      <td>No</td>\n",
       "      <td>Up</td>\n",
       "      <td>No</td>\n",
       "      <td>No</td>\n",
       "      <td>No</td>\n",
       "      <td>No</td>\n",
       "      <td>No</td>\n",
       "      <td>Ch</td>\n",
       "      <td>Yes</td>\n",
       "      <td>NO</td>\n",
       "    </tr>\n",
       "    <tr>\n",
       "      <th>4</th>\n",
       "      <td>16680</td>\n",
       "      <td>42519267</td>\n",
       "      <td>Caucasian</td>\n",
       "      <td>Male</td>\n",
       "      <td>[40-50)</td>\n",
       "      <td>NaN</td>\n",
       "      <td>1</td>\n",
       "      <td>1</td>\n",
       "      <td>7</td>\n",
       "      <td>1</td>\n",
       "      <td>...</td>\n",
       "      <td>No</td>\n",
       "      <td>Steady</td>\n",
       "      <td>No</td>\n",
       "      <td>No</td>\n",
       "      <td>No</td>\n",
       "      <td>No</td>\n",
       "      <td>No</td>\n",
       "      <td>Ch</td>\n",
       "      <td>Yes</td>\n",
       "      <td>NO</td>\n",
       "    </tr>\n",
       "  </tbody>\n",
       "</table>\n",
       "<p>5 rows × 50 columns</p>\n",
       "</div>"
      ],
      "text/plain": [
       "   encounter_id  patient_nbr             race  gender      age weight  \\\n",
       "0       2278392      8222157        Caucasian  Female   [0-10)    NaN   \n",
       "1        149190     55629189        Caucasian  Female  [10-20)    NaN   \n",
       "2         64410     86047875  AfricanAmerican  Female  [20-30)    NaN   \n",
       "3        500364     82442376        Caucasian    Male  [30-40)    NaN   \n",
       "4         16680     42519267        Caucasian    Male  [40-50)    NaN   \n",
       "\n",
       "   admission_type_id  discharge_disposition_id  admission_source_id  \\\n",
       "0                  6                        25                    1   \n",
       "1                  1                         1                    7   \n",
       "2                  1                         1                    7   \n",
       "3                  1                         1                    7   \n",
       "4                  1                         1                    7   \n",
       "\n",
       "   time_in_hospital  ... citoglipton insulin  glyburide-metformin  \\\n",
       "0                 1  ...          No      No                   No   \n",
       "1                 3  ...          No      Up                   No   \n",
       "2                 2  ...          No      No                   No   \n",
       "3                 2  ...          No      Up                   No   \n",
       "4                 1  ...          No  Steady                   No   \n",
       "\n",
       "   glipizide-metformin  glimepiride-pioglitazone  metformin-rosiglitazone  \\\n",
       "0                   No                        No                       No   \n",
       "1                   No                        No                       No   \n",
       "2                   No                        No                       No   \n",
       "3                   No                        No                       No   \n",
       "4                   No                        No                       No   \n",
       "\n",
       "   metformin-pioglitazone  change diabetesMed readmitted  \n",
       "0                      No      No          No         NO  \n",
       "1                      No      Ch         Yes        >30  \n",
       "2                      No      No         Yes         NO  \n",
       "3                      No      Ch         Yes         NO  \n",
       "4                      No      Ch         Yes         NO  \n",
       "\n",
       "[5 rows x 50 columns]"
      ]
     },
     "execution_count": 3,
     "metadata": {},
     "output_type": "execute_result"
    }
   ],
   "source": [
    "df.head()"
   ]
  },
  {
   "cell_type": "code",
   "execution_count": 4,
   "id": "6379bfde-f909-4046-ac12-60e23a8de11c",
   "metadata": {
    "tags": []
   },
   "outputs": [
    {
     "data": {
      "text/plain": [
       "(101766, 50)"
      ]
     },
     "execution_count": 4,
     "metadata": {},
     "output_type": "execute_result"
    }
   ],
   "source": [
    "df.shape"
   ]
  },
  {
   "cell_type": "code",
   "execution_count": 5,
   "id": "079815ab-5dfb-4003-87ed-668e214e5522",
   "metadata": {
    "tags": []
   },
   "outputs": [
    {
     "data": {
      "text/plain": [
       "encounter_id                    0\n",
       "patient_nbr                     0\n",
       "race                         2273\n",
       "gender                          0\n",
       "age                             0\n",
       "weight                      98569\n",
       "admission_type_id               0\n",
       "discharge_disposition_id        0\n",
       "admission_source_id             0\n",
       "time_in_hospital                0\n",
       "payer_code                  40256\n",
       "medical_specialty           49949\n",
       "num_lab_procedures              0\n",
       "num_procedures                  0\n",
       "num_medications                 0\n",
       "number_outpatient               0\n",
       "number_emergency                0\n",
       "number_inpatient                0\n",
       "diag_1                         21\n",
       "diag_2                        358\n",
       "diag_3                       1423\n",
       "number_diagnoses                0\n",
       "max_glu_serum                   0\n",
       "A1Cresult                       0\n",
       "metformin                       0\n",
       "repaglinide                     0\n",
       "nateglinide                     0\n",
       "chlorpropamide                  0\n",
       "glimepiride                     0\n",
       "acetohexamide                   0\n",
       "glipizide                       0\n",
       "glyburide                       0\n",
       "tolbutamide                     0\n",
       "pioglitazone                    0\n",
       "rosiglitazone                   0\n",
       "acarbose                        0\n",
       "miglitol                        0\n",
       "troglitazone                    0\n",
       "tolazamide                      0\n",
       "examide                         0\n",
       "citoglipton                     0\n",
       "insulin                         0\n",
       "glyburide-metformin             0\n",
       "glipizide-metformin             0\n",
       "glimepiride-pioglitazone        0\n",
       "metformin-rosiglitazone         0\n",
       "metformin-pioglitazone          0\n",
       "change                          0\n",
       "diabetesMed                     0\n",
       "readmitted                      0\n",
       "dtype: int64"
      ]
     },
     "execution_count": 5,
     "metadata": {},
     "output_type": "execute_result"
    }
   ],
   "source": [
    "df.isna().sum()"
   ]
  },
  {
   "cell_type": "code",
   "execution_count": 6,
   "id": "e4f067d1-4522-416d-aaa4-deb41401c44b",
   "metadata": {
    "tags": []
   },
   "outputs": [
    {
     "name": "stdout",
     "output_type": "stream",
     "text": [
      "<class 'pandas.core.frame.DataFrame'>\n",
      "RangeIndex: 101766 entries, 0 to 101765\n",
      "Data columns (total 50 columns):\n",
      " #   Column                    Non-Null Count   Dtype \n",
      "---  ------                    --------------   ----- \n",
      " 0   encounter_id              101766 non-null  int64 \n",
      " 1   patient_nbr               101766 non-null  int64 \n",
      " 2   race                      99493 non-null   object\n",
      " 3   gender                    101766 non-null  object\n",
      " 4   age                       101766 non-null  object\n",
      " 5   weight                    3197 non-null    object\n",
      " 6   admission_type_id         101766 non-null  int64 \n",
      " 7   discharge_disposition_id  101766 non-null  int64 \n",
      " 8   admission_source_id       101766 non-null  int64 \n",
      " 9   time_in_hospital          101766 non-null  int64 \n",
      " 10  payer_code                61510 non-null   object\n",
      " 11  medical_specialty         51817 non-null   object\n",
      " 12  num_lab_procedures        101766 non-null  int64 \n",
      " 13  num_procedures            101766 non-null  int64 \n",
      " 14  num_medications           101766 non-null  int64 \n",
      " 15  number_outpatient         101766 non-null  int64 \n",
      " 16  number_emergency          101766 non-null  int64 \n",
      " 17  number_inpatient          101766 non-null  int64 \n",
      " 18  diag_1                    101745 non-null  object\n",
      " 19  diag_2                    101408 non-null  object\n",
      " 20  diag_3                    100343 non-null  object\n",
      " 21  number_diagnoses          101766 non-null  int64 \n",
      " 22  max_glu_serum             101766 non-null  object\n",
      " 23  A1Cresult                 101766 non-null  object\n",
      " 24  metformin                 101766 non-null  object\n",
      " 25  repaglinide               101766 non-null  object\n",
      " 26  nateglinide               101766 non-null  object\n",
      " 27  chlorpropamide            101766 non-null  object\n",
      " 28  glimepiride               101766 non-null  object\n",
      " 29  acetohexamide             101766 non-null  object\n",
      " 30  glipizide                 101766 non-null  object\n",
      " 31  glyburide                 101766 non-null  object\n",
      " 32  tolbutamide               101766 non-null  object\n",
      " 33  pioglitazone              101766 non-null  object\n",
      " 34  rosiglitazone             101766 non-null  object\n",
      " 35  acarbose                  101766 non-null  object\n",
      " 36  miglitol                  101766 non-null  object\n",
      " 37  troglitazone              101766 non-null  object\n",
      " 38  tolazamide                101766 non-null  object\n",
      " 39  examide                   101766 non-null  object\n",
      " 40  citoglipton               101766 non-null  object\n",
      " 41  insulin                   101766 non-null  object\n",
      " 42  glyburide-metformin       101766 non-null  object\n",
      " 43  glipizide-metformin       101766 non-null  object\n",
      " 44  glimepiride-pioglitazone  101766 non-null  object\n",
      " 45  metformin-rosiglitazone   101766 non-null  object\n",
      " 46  metformin-pioglitazone    101766 non-null  object\n",
      " 47  change                    101766 non-null  object\n",
      " 48  diabetesMed               101766 non-null  object\n",
      " 49  readmitted                101766 non-null  object\n",
      "dtypes: int64(13), object(37)\n",
      "memory usage: 38.8+ MB\n"
     ]
    }
   ],
   "source": [
    "df.info()"
   ]
  },
  {
   "cell_type": "code",
   "execution_count": 7,
   "id": "00edc3cb-0931-45d1-9906-2d77457e4e33",
   "metadata": {
    "tags": []
   },
   "outputs": [
    {
     "data": {
      "text/plain": [
       "NO     54864\n",
       ">30    35545\n",
       "<30    11357\n",
       "Name: readmitted, dtype: int64"
      ]
     },
     "execution_count": 7,
     "metadata": {},
     "output_type": "execute_result"
    }
   ],
   "source": [
    "df[\"readmitted\"].value_counts()"
   ]
  },
  {
   "cell_type": "code",
   "execution_count": 8,
   "id": "6d5e0e2a-b820-4ec4-b9db-e82f1a849e3f",
   "metadata": {
    "tags": []
   },
   "outputs": [],
   "source": [
    "def map_readmitted(value):\n",
    "    if value == '<30':\n",
    "        return 1\n",
    "    else:\n",
    "        return 0"
   ]
  },
  {
   "cell_type": "code",
   "execution_count": 9,
   "id": "b3f3c7ab-b24e-4e4c-bbbe-091b61a44445",
   "metadata": {
    "tags": []
   },
   "outputs": [],
   "source": [
    "df[\"readmitted\"] = df[\"readmitted\"].apply(map_readmitted)"
   ]
  },
  {
   "cell_type": "code",
   "execution_count": 10,
   "id": "eb134c56-c7cc-4fd0-aabb-bd23f86efec7",
   "metadata": {},
   "outputs": [
    {
     "data": {
      "text/plain": [
       "Index(['encounter_id', 'patient_nbr', 'race', 'gender', 'age', 'weight',\n",
       "       'admission_type_id', 'discharge_disposition_id', 'admission_source_id',\n",
       "       'time_in_hospital', 'payer_code', 'medical_specialty',\n",
       "       'num_lab_procedures', 'num_procedures', 'num_medications',\n",
       "       'number_outpatient', 'number_emergency', 'number_inpatient', 'diag_1',\n",
       "       'diag_2', 'diag_3', 'number_diagnoses', 'max_glu_serum', 'A1Cresult',\n",
       "       'metformin', 'repaglinide', 'nateglinide', 'chlorpropamide',\n",
       "       'glimepiride', 'acetohexamide', 'glipizide', 'glyburide', 'tolbutamide',\n",
       "       'pioglitazone', 'rosiglitazone', 'acarbose', 'miglitol', 'troglitazone',\n",
       "       'tolazamide', 'examide', 'citoglipton', 'insulin',\n",
       "       'glyburide-metformin', 'glipizide-metformin',\n",
       "       'glimepiride-pioglitazone', 'metformin-rosiglitazone',\n",
       "       'metformin-pioglitazone', 'change', 'diabetesMed', 'readmitted'],\n",
       "      dtype='object')"
      ]
     },
     "execution_count": 10,
     "metadata": {},
     "output_type": "execute_result"
    }
   ],
   "source": [
    "df.columns"
   ]
  },
  {
   "cell_type": "code",
   "execution_count": 11,
   "id": "49454a1e-fac3-4af9-af7d-9d1b90c44414",
   "metadata": {
    "tags": []
   },
   "outputs": [],
   "source": [
    "pd.set_option(\"display.max_rows\", None)"
   ]
  },
  {
   "cell_type": "code",
   "execution_count": 12,
   "id": "caf64fe1-1539-49c6-a098-b672dcbb9608",
   "metadata": {
    "tags": []
   },
   "outputs": [],
   "source": [
    "df = df.drop_duplicates(subset=['patient_nbr'])"
   ]
  },
  {
   "cell_type": "code",
   "execution_count": 13,
   "id": "14a64dba-2e78-4d9b-88ec-baed754a3779",
   "metadata": {
    "tags": []
   },
   "outputs": [
    {
     "data": {
      "text/plain": [
       "(71518, 50)"
      ]
     },
     "execution_count": 13,
     "metadata": {},
     "output_type": "execute_result"
    }
   ],
   "source": [
    "df.shape"
   ]
  },
  {
   "cell_type": "code",
   "execution_count": 14,
   "id": "16343143-e58e-4770-aaee-21594076e2ed",
   "metadata": {
    "tags": []
   },
   "outputs": [],
   "source": [
    "columns_to_drop = ['weight','payer_code','medical_specialty']"
   ]
  },
  {
   "cell_type": "code",
   "execution_count": 15,
   "id": "0e829b40-dcdb-410e-a259-32e3a263adee",
   "metadata": {
    "tags": []
   },
   "outputs": [],
   "source": [
    "# Weight, payer_code and medical_speciality has more than 50% null values so we drop them\n",
    "\n",
    "df = df.drop(columns_to_drop,axis = 1)"
   ]
  },
  {
   "cell_type": "code",
   "execution_count": 16,
   "id": "6dbf3e2b-cf67-4f11-a386-55c7e3aa3734",
   "metadata": {
    "tags": []
   },
   "outputs": [
    {
     "data": {
      "text/plain": [
       "Index(['encounter_id', 'patient_nbr', 'race', 'gender', 'age',\n",
       "       'admission_type_id', 'discharge_disposition_id', 'admission_source_id',\n",
       "       'time_in_hospital', 'num_lab_procedures', 'num_procedures',\n",
       "       'num_medications', 'number_outpatient', 'number_emergency',\n",
       "       'number_inpatient', 'diag_1', 'diag_2', 'diag_3', 'number_diagnoses',\n",
       "       'max_glu_serum', 'A1Cresult', 'metformin', 'repaglinide', 'nateglinide',\n",
       "       'chlorpropamide', 'glimepiride', 'acetohexamide', 'glipizide',\n",
       "       'glyburide', 'tolbutamide', 'pioglitazone', 'rosiglitazone', 'acarbose',\n",
       "       'miglitol', 'troglitazone', 'tolazamide', 'examide', 'citoglipton',\n",
       "       'insulin', 'glyburide-metformin', 'glipizide-metformin',\n",
       "       'glimepiride-pioglitazone', 'metformin-rosiglitazone',\n",
       "       'metformin-pioglitazone', 'change', 'diabetesMed', 'readmitted'],\n",
       "      dtype='object')"
      ]
     },
     "execution_count": 16,
     "metadata": {},
     "output_type": "execute_result"
    }
   ],
   "source": [
    "df.columns"
   ]
  },
  {
   "cell_type": "code",
   "execution_count": 17,
   "id": "08db0372-081d-47a5-9738-a4ca9ea2d71c",
   "metadata": {
    "tags": []
   },
   "outputs": [],
   "source": [
    "def map_age_to_numeric(age_group):\n",
    "    if age_group in ('[0-10)', '[10-20)'):\n",
    "        return 0\n",
    "    elif age_group in ('[20-30)', '[30-40)'):\n",
    "        return 1\n",
    "    elif age_group in ('[40-50)', '[50-60)'):\n",
    "        return 2\n",
    "    elif age_group in ('[60-70)', '[70-80)'):\n",
    "        return 3\n",
    "    elif age_group in ('[80-90)', '[90-100)'):\n",
    "        return 4\n",
    "    else:\n",
    "        return age_group"
   ]
  },
  {
   "cell_type": "code",
   "execution_count": 18,
   "id": "f3bd2ef5-acca-4ad2-aa65-888882ee899f",
   "metadata": {
    "tags": []
   },
   "outputs": [],
   "source": [
    "df['age'] = df['age'].apply(map_age_to_numeric)"
   ]
  },
  {
   "cell_type": "code",
   "execution_count": 19,
   "id": "487b2a20-80c3-4e86-b6f9-86550aa13085",
   "metadata": {
    "tags": []
   },
   "outputs": [
    {
     "data": {
      "text/plain": [
       "3    34170\n",
       "2    19344\n",
       "4    13489\n",
       "1     3826\n",
       "0      689\n",
       "Name: age, dtype: int64"
      ]
     },
     "execution_count": 19,
     "metadata": {},
     "output_type": "execute_result"
    }
   ],
   "source": [
    "df['age'].value_counts()"
   ]
  },
  {
   "cell_type": "code",
   "execution_count": 20,
   "id": "35b14ce7-33be-458f-9095-266a34c8f2d7",
   "metadata": {
    "tags": []
   },
   "outputs": [
    {
     "data": {
      "text/plain": [
       "1    36490\n",
       "3    13917\n",
       "2    13028\n",
       "6     4588\n",
       "5     3174\n",
       "8      291\n",
       "7       21\n",
       "4        9\n",
       "Name: admission_type_id, dtype: int64"
      ]
     },
     "execution_count": 20,
     "metadata": {},
     "output_type": "execute_result"
    }
   ],
   "source": [
    "df['admission_type_id'].value_counts()"
   ]
  },
  {
   "cell_type": "code",
   "execution_count": 21,
   "id": "84b191bd-2cba-4a0a-b869-45d4ef630e0c",
   "metadata": {
    "tags": []
   },
   "outputs": [],
   "source": [
    "def map_admission_type(admission_type_id):\n",
    "    if admission_type_id == 1.0 or admission_type_id == 2.0:\n",
    "        return \"Emergency\"\n",
    "    elif admission_type_id == 3.0:\n",
    "        return \"Elective\"\n",
    "    elif admission_type_id == 4.0:\n",
    "        return \"New_Born\"\n",
    "    elif admission_type_id == 7.0:\n",
    "        return \"Trauma_Center\"\n",
    "    else:\n",
    "        return \"Other\""
   ]
  },
  {
   "cell_type": "code",
   "execution_count": 22,
   "id": "0db431d3-7605-41c3-be85-6e2e34ada96c",
   "metadata": {
    "tags": []
   },
   "outputs": [],
   "source": [
    "df['admission_type_id'] = df['admission_type_id'].apply(map_admission_type)"
   ]
  },
  {
   "cell_type": "code",
   "execution_count": 23,
   "id": "c76cb786-08af-4619-9680-3a3d7305b299",
   "metadata": {
    "tags": []
   },
   "outputs": [
    {
     "data": {
      "text/plain": [
       "Emergency        49518\n",
       "Elective         13917\n",
       "Other             8053\n",
       "Trauma_Center       21\n",
       "New_Born             9\n",
       "Name: admission_type_id, dtype: int64"
      ]
     },
     "execution_count": 23,
     "metadata": {},
     "output_type": "execute_result"
    }
   ],
   "source": [
    "df['admission_type_id'].value_counts()"
   ]
  },
  {
   "cell_type": "code",
   "execution_count": 24,
   "id": "20decd42-671c-44bd-96ad-38ee0618f018",
   "metadata": {
    "tags": []
   },
   "outputs": [],
   "source": [
    "values_to_drop = ['Trauma_Center', 'New_Born']"
   ]
  },
  {
   "cell_type": "code",
   "execution_count": 25,
   "id": "6b922dc6-6ffa-4c20-b87e-7cad14feed4f",
   "metadata": {
    "tags": []
   },
   "outputs": [],
   "source": [
    "df = df[~df['admission_type_id'].isin(values_to_drop)]"
   ]
  },
  {
   "cell_type": "code",
   "execution_count": 26,
   "id": "e715aec3-cf48-47d0-80da-2ffb53038ad7",
   "metadata": {
    "tags": []
   },
   "outputs": [
    {
     "data": {
      "text/plain": [
       "Emergency    49518\n",
       "Elective     13917\n",
       "Other         8053\n",
       "Name: admission_type_id, dtype: int64"
      ]
     },
     "execution_count": 26,
     "metadata": {},
     "output_type": "execute_result"
    }
   ],
   "source": [
    "df['admission_type_id'].value_counts()"
   ]
  },
  {
   "cell_type": "code",
   "execution_count": 27,
   "id": "1cd4cdd2-ecf0-4296-96ae-1b94a901b9a0",
   "metadata": {
    "tags": []
   },
   "outputs": [
    {
     "data": {
      "text/plain": [
       "1     44307\n",
       "3      8778\n",
       "6      8282\n",
       "18     2474\n",
       "2      1538\n",
       "22     1407\n",
       "11     1074\n",
       "5       913\n",
       "25      778\n",
       "4       541\n",
       "7       409\n",
       "23      260\n",
       "13      243\n",
       "14      218\n",
       "28       90\n",
       "8        73\n",
       "15       40\n",
       "24       25\n",
       "9         9\n",
       "17        8\n",
       "10        6\n",
       "19        6\n",
       "27        3\n",
       "16        3\n",
       "12        2\n",
       "20        1\n",
       "Name: discharge_disposition_id, dtype: int64"
      ]
     },
     "execution_count": 27,
     "metadata": {},
     "output_type": "execute_result"
    }
   ],
   "source": [
    "df['discharge_disposition_id'].value_counts()"
   ]
  },
  {
   "cell_type": "code",
   "execution_count": 28,
   "id": "733500d9-c207-41ea-8603-0a1da511ad53",
   "metadata": {
    "tags": []
   },
   "outputs": [],
   "source": [
    "def map_discharge_disposition_id(discharge_id):\n",
    "    if discharge_id in [1, 6, 8, 13, 19]:\n",
    "        return \"Discharged to Home\"\n",
    "    elif discharge_id in [2, 3, 4, 5, 7, 9, 10, 11, 12, 14, 15, 16, 17, 20, 21, 22, 23, 24, 27, 28, 29]:\n",
    "        return \"Other\"\n",
    "    else:\n",
    "        return np.nan"
   ]
  },
  {
   "cell_type": "code",
   "execution_count": 29,
   "id": "51a4d246-752e-4739-a1cf-dcc1a2cbe327",
   "metadata": {
    "tags": []
   },
   "outputs": [],
   "source": [
    "df['discharge_disposition_id'] = df['discharge_disposition_id'].apply(map_discharge_disposition_id)"
   ]
  },
  {
   "cell_type": "code",
   "execution_count": 30,
   "id": "a9ac0ac9-307c-47b4-8ab8-90175b4ad2ec",
   "metadata": {
    "tags": []
   },
   "outputs": [
    {
     "data": {
      "text/plain": [
       "Discharged to Home    52911\n",
       "Other                 15325\n",
       "Name: discharge_disposition_id, dtype: int64"
      ]
     },
     "execution_count": 30,
     "metadata": {},
     "output_type": "execute_result"
    }
   ],
   "source": [
    "df['discharge_disposition_id'].value_counts()"
   ]
  },
  {
   "cell_type": "code",
   "execution_count": 31,
   "id": "e40b1455-276f-4eb5-a079-1d71aa317237",
   "metadata": {
    "tags": []
   },
   "outputs": [],
   "source": [
    "def map_admission_source(admission_source_id):\n",
    "    if admission_source_id in [1, 2, 3]:\n",
    "        return \"Referral\"\n",
    "    elif admission_source_id == 7:\n",
    "        return \"Emergency\"\n",
    "    elif admission_source_id in [4, 5, 6, 8, 9, 10, 11, 13, 14, 22, 25]:\n",
    "        return \"Other\"\n",
    "    else:\n",
    "        return np.nan"
   ]
  },
  {
   "cell_type": "code",
   "execution_count": 32,
   "id": "c2df33eb-9e1e-4155-9e28-9862808a2c11",
   "metadata": {
    "tags": []
   },
   "outputs": [],
   "source": [
    "df['admission_source_id'] = df['admission_source_id'].apply(map_admission_source)"
   ]
  },
  {
   "cell_type": "code",
   "execution_count": 33,
   "id": "1ef66b4b-4584-45cb-8478-d7eb6668f4ef",
   "metadata": {
    "tags": []
   },
   "outputs": [
    {
     "data": {
      "text/plain": [
       "Emergency    38267\n",
       "Referral     23069\n",
       "Other         5048\n",
       "Name: admission_source_id, dtype: int64"
      ]
     },
     "execution_count": 33,
     "metadata": {},
     "output_type": "execute_result"
    }
   ],
   "source": [
    "df['admission_source_id'].value_counts()"
   ]
  },
  {
   "cell_type": "code",
   "execution_count": 34,
   "id": "3642427a-2a62-4649-a631-5a26484788a9",
   "metadata": {},
   "outputs": [],
   "source": [
    "df['discharge_disposition_id'] = df['discharge_disposition_id'].fillna(df['discharge_disposition_id'].mode()[0])\n",
    "\n",
    "df['admission_source_id'] = df['admission_source_id'].fillna(df['admission_source_id'].mode()[0])"
   ]
  },
  {
   "cell_type": "code",
   "execution_count": 35,
   "id": "2154ed7a-0bb6-4ffe-b075-6348c36f5452",
   "metadata": {
    "tags": []
   },
   "outputs": [
    {
     "data": {
      "text/plain": [
       "Emergency    43371\n",
       "Referral     23069\n",
       "Other         5048\n",
       "Name: admission_source_id, dtype: int64"
      ]
     },
     "execution_count": 35,
     "metadata": {},
     "output_type": "execute_result"
    }
   ],
   "source": [
    "df['admission_source_id'].value_counts()"
   ]
  },
  {
   "cell_type": "code",
   "execution_count": 36,
   "id": "08150d10-d31f-4e21-84e8-6d9f129d4cee",
   "metadata": {
    "tags": []
   },
   "outputs": [
    {
     "data": {
      "text/plain": [
       "Discharged to Home    56163\n",
       "Other                 15325\n",
       "Name: discharge_disposition_id, dtype: int64"
      ]
     },
     "execution_count": 36,
     "metadata": {},
     "output_type": "execute_result"
    }
   ],
   "source": [
    "df['discharge_disposition_id'].value_counts()"
   ]
  },
  {
   "cell_type": "code",
   "execution_count": 37,
   "id": "4eb53bf9-8932-42d4-9648-b09ce8a8d5b2",
   "metadata": {
    "tags": []
   },
   "outputs": [],
   "source": [
    "df['race'] = df['race'].fillna(df['race'].mode()[0])"
   ]
  },
  {
   "cell_type": "code",
   "execution_count": 38,
   "id": "11e86b0e-b1cd-4180-a3ce-89e36a314c08",
   "metadata": {
    "tags": []
   },
   "outputs": [],
   "source": [
    "categories_to_impute = ['Hispanic', 'Asian']\n",
    "\n",
    "df['race'] = df['race'].replace(categories_to_impute, 'Other')"
   ]
  },
  {
   "cell_type": "code",
   "execution_count": 39,
   "id": "7e5a297f-b297-4b3b-b336-e110f953aa10",
   "metadata": {
    "tags": []
   },
   "outputs": [
    {
     "data": {
      "text/plain": [
       "Caucasian          55416\n",
       "AfricanAmerican    12883\n",
       "Other               3189\n",
       "Name: race, dtype: int64"
      ]
     },
     "execution_count": 39,
     "metadata": {},
     "output_type": "execute_result"
    }
   ],
   "source": [
    "df['race'].value_counts()"
   ]
  },
  {
   "cell_type": "code",
   "execution_count": 40,
   "id": "5d129218-5294-46f6-ab98-f3c07b1e40a8",
   "metadata": {
    "tags": []
   },
   "outputs": [
    {
     "data": {
      "text/plain": [
       "Index(['encounter_id', 'patient_nbr', 'race', 'gender', 'age',\n",
       "       'admission_type_id', 'discharge_disposition_id', 'admission_source_id',\n",
       "       'time_in_hospital', 'num_lab_procedures', 'num_procedures',\n",
       "       'num_medications', 'number_outpatient', 'number_emergency',\n",
       "       'number_inpatient', 'diag_1', 'diag_2', 'diag_3', 'number_diagnoses',\n",
       "       'max_glu_serum', 'A1Cresult', 'metformin', 'repaglinide', 'nateglinide',\n",
       "       'chlorpropamide', 'glimepiride', 'acetohexamide', 'glipizide',\n",
       "       'glyburide', 'tolbutamide', 'pioglitazone', 'rosiglitazone', 'acarbose',\n",
       "       'miglitol', 'troglitazone', 'tolazamide', 'examide', 'citoglipton',\n",
       "       'insulin', 'glyburide-metformin', 'glipizide-metformin',\n",
       "       'glimepiride-pioglitazone', 'metformin-rosiglitazone',\n",
       "       'metformin-pioglitazone', 'change', 'diabetesMed', 'readmitted'],\n",
       "      dtype='object')"
      ]
     },
     "execution_count": 40,
     "metadata": {},
     "output_type": "execute_result"
    }
   ],
   "source": [
    "df.columns"
   ]
  },
  {
   "cell_type": "code",
   "execution_count": 41,
   "id": "ed74b666-c40d-4337-864f-aeb2cc13722f",
   "metadata": {
    "tags": []
   },
   "outputs": [],
   "source": [
    "columns_todrop = ['number_outpatient','number_emergency','number_inpatient','diag_1','diag_2','diag_3']"
   ]
  },
  {
   "cell_type": "code",
   "execution_count": 42,
   "id": "2b19a8b2-5399-49ce-a746-237b0051eb25",
   "metadata": {
    "tags": []
   },
   "outputs": [],
   "source": [
    "df = df.drop(columns_todrop,axis = 1)"
   ]
  },
  {
   "cell_type": "code",
   "execution_count": 43,
   "id": "bce50136-faf3-45d4-90d5-d4da215108f0",
   "metadata": {
    "tags": []
   },
   "outputs": [
    {
     "data": {
      "text/plain": [
       "Index(['encounter_id', 'patient_nbr', 'race', 'gender', 'age',\n",
       "       'admission_type_id', 'discharge_disposition_id', 'admission_source_id',\n",
       "       'time_in_hospital', 'num_lab_procedures', 'num_procedures',\n",
       "       'num_medications', 'number_diagnoses', 'max_glu_serum', 'A1Cresult',\n",
       "       'metformin', 'repaglinide', 'nateglinide', 'chlorpropamide',\n",
       "       'glimepiride', 'acetohexamide', 'glipizide', 'glyburide', 'tolbutamide',\n",
       "       'pioglitazone', 'rosiglitazone', 'acarbose', 'miglitol', 'troglitazone',\n",
       "       'tolazamide', 'examide', 'citoglipton', 'insulin',\n",
       "       'glyburide-metformin', 'glipizide-metformin',\n",
       "       'glimepiride-pioglitazone', 'metformin-rosiglitazone',\n",
       "       'metformin-pioglitazone', 'change', 'diabetesMed', 'readmitted'],\n",
       "      dtype='object')"
      ]
     },
     "execution_count": 43,
     "metadata": {},
     "output_type": "execute_result"
    }
   ],
   "source": [
    "df.columns"
   ]
  },
  {
   "cell_type": "code",
   "execution_count": 44,
   "id": "06098dbb-ecc2-41c1-89f3-bbc8f29ab25c",
   "metadata": {
    "tags": []
   },
   "outputs": [
    {
     "data": {
      "text/html": [
       "<div>\n",
       "<style scoped>\n",
       "    .dataframe tbody tr th:only-of-type {\n",
       "        vertical-align: middle;\n",
       "    }\n",
       "\n",
       "    .dataframe tbody tr th {\n",
       "        vertical-align: top;\n",
       "    }\n",
       "\n",
       "    .dataframe thead th {\n",
       "        text-align: right;\n",
       "    }\n",
       "</style>\n",
       "<table border=\"1\" class=\"dataframe\">\n",
       "  <thead>\n",
       "    <tr style=\"text-align: right;\">\n",
       "      <th></th>\n",
       "      <th>encounter_id</th>\n",
       "      <th>patient_nbr</th>\n",
       "      <th>race</th>\n",
       "      <th>gender</th>\n",
       "      <th>age</th>\n",
       "      <th>admission_type_id</th>\n",
       "      <th>discharge_disposition_id</th>\n",
       "      <th>admission_source_id</th>\n",
       "      <th>time_in_hospital</th>\n",
       "      <th>num_lab_procedures</th>\n",
       "      <th>...</th>\n",
       "      <th>citoglipton</th>\n",
       "      <th>insulin</th>\n",
       "      <th>glyburide-metformin</th>\n",
       "      <th>glipizide-metformin</th>\n",
       "      <th>glimepiride-pioglitazone</th>\n",
       "      <th>metformin-rosiglitazone</th>\n",
       "      <th>metformin-pioglitazone</th>\n",
       "      <th>change</th>\n",
       "      <th>diabetesMed</th>\n",
       "      <th>readmitted</th>\n",
       "    </tr>\n",
       "  </thead>\n",
       "  <tbody>\n",
       "    <tr>\n",
       "      <th>0</th>\n",
       "      <td>2278392</td>\n",
       "      <td>8222157</td>\n",
       "      <td>Caucasian</td>\n",
       "      <td>Female</td>\n",
       "      <td>0</td>\n",
       "      <td>Other</td>\n",
       "      <td>Discharged to Home</td>\n",
       "      <td>Referral</td>\n",
       "      <td>1</td>\n",
       "      <td>41</td>\n",
       "      <td>...</td>\n",
       "      <td>No</td>\n",
       "      <td>No</td>\n",
       "      <td>No</td>\n",
       "      <td>No</td>\n",
       "      <td>No</td>\n",
       "      <td>No</td>\n",
       "      <td>No</td>\n",
       "      <td>No</td>\n",
       "      <td>No</td>\n",
       "      <td>0</td>\n",
       "    </tr>\n",
       "    <tr>\n",
       "      <th>1</th>\n",
       "      <td>149190</td>\n",
       "      <td>55629189</td>\n",
       "      <td>Caucasian</td>\n",
       "      <td>Female</td>\n",
       "      <td>0</td>\n",
       "      <td>Emergency</td>\n",
       "      <td>Discharged to Home</td>\n",
       "      <td>Emergency</td>\n",
       "      <td>3</td>\n",
       "      <td>59</td>\n",
       "      <td>...</td>\n",
       "      <td>No</td>\n",
       "      <td>Up</td>\n",
       "      <td>No</td>\n",
       "      <td>No</td>\n",
       "      <td>No</td>\n",
       "      <td>No</td>\n",
       "      <td>No</td>\n",
       "      <td>Ch</td>\n",
       "      <td>Yes</td>\n",
       "      <td>0</td>\n",
       "    </tr>\n",
       "    <tr>\n",
       "      <th>2</th>\n",
       "      <td>64410</td>\n",
       "      <td>86047875</td>\n",
       "      <td>AfricanAmerican</td>\n",
       "      <td>Female</td>\n",
       "      <td>1</td>\n",
       "      <td>Emergency</td>\n",
       "      <td>Discharged to Home</td>\n",
       "      <td>Emergency</td>\n",
       "      <td>2</td>\n",
       "      <td>11</td>\n",
       "      <td>...</td>\n",
       "      <td>No</td>\n",
       "      <td>No</td>\n",
       "      <td>No</td>\n",
       "      <td>No</td>\n",
       "      <td>No</td>\n",
       "      <td>No</td>\n",
       "      <td>No</td>\n",
       "      <td>No</td>\n",
       "      <td>Yes</td>\n",
       "      <td>0</td>\n",
       "    </tr>\n",
       "    <tr>\n",
       "      <th>3</th>\n",
       "      <td>500364</td>\n",
       "      <td>82442376</td>\n",
       "      <td>Caucasian</td>\n",
       "      <td>Male</td>\n",
       "      <td>1</td>\n",
       "      <td>Emergency</td>\n",
       "      <td>Discharged to Home</td>\n",
       "      <td>Emergency</td>\n",
       "      <td>2</td>\n",
       "      <td>44</td>\n",
       "      <td>...</td>\n",
       "      <td>No</td>\n",
       "      <td>Up</td>\n",
       "      <td>No</td>\n",
       "      <td>No</td>\n",
       "      <td>No</td>\n",
       "      <td>No</td>\n",
       "      <td>No</td>\n",
       "      <td>Ch</td>\n",
       "      <td>Yes</td>\n",
       "      <td>0</td>\n",
       "    </tr>\n",
       "    <tr>\n",
       "      <th>4</th>\n",
       "      <td>16680</td>\n",
       "      <td>42519267</td>\n",
       "      <td>Caucasian</td>\n",
       "      <td>Male</td>\n",
       "      <td>2</td>\n",
       "      <td>Emergency</td>\n",
       "      <td>Discharged to Home</td>\n",
       "      <td>Emergency</td>\n",
       "      <td>1</td>\n",
       "      <td>51</td>\n",
       "      <td>...</td>\n",
       "      <td>No</td>\n",
       "      <td>Steady</td>\n",
       "      <td>No</td>\n",
       "      <td>No</td>\n",
       "      <td>No</td>\n",
       "      <td>No</td>\n",
       "      <td>No</td>\n",
       "      <td>Ch</td>\n",
       "      <td>Yes</td>\n",
       "      <td>0</td>\n",
       "    </tr>\n",
       "  </tbody>\n",
       "</table>\n",
       "<p>5 rows × 41 columns</p>\n",
       "</div>"
      ],
      "text/plain": [
       "   encounter_id  patient_nbr             race  gender  age admission_type_id  \\\n",
       "0       2278392      8222157        Caucasian  Female    0             Other   \n",
       "1        149190     55629189        Caucasian  Female    0         Emergency   \n",
       "2         64410     86047875  AfricanAmerican  Female    1         Emergency   \n",
       "3        500364     82442376        Caucasian    Male    1         Emergency   \n",
       "4         16680     42519267        Caucasian    Male    2         Emergency   \n",
       "\n",
       "  discharge_disposition_id admission_source_id  time_in_hospital  \\\n",
       "0       Discharged to Home            Referral                 1   \n",
       "1       Discharged to Home           Emergency                 3   \n",
       "2       Discharged to Home           Emergency                 2   \n",
       "3       Discharged to Home           Emergency                 2   \n",
       "4       Discharged to Home           Emergency                 1   \n",
       "\n",
       "   num_lab_procedures  ...  citoglipton  insulin  glyburide-metformin  \\\n",
       "0                  41  ...           No       No                   No   \n",
       "1                  59  ...           No       Up                   No   \n",
       "2                  11  ...           No       No                   No   \n",
       "3                  44  ...           No       Up                   No   \n",
       "4                  51  ...           No   Steady                   No   \n",
       "\n",
       "  glipizide-metformin glimepiride-pioglitazone metformin-rosiglitazone  \\\n",
       "0                  No                       No                      No   \n",
       "1                  No                       No                      No   \n",
       "2                  No                       No                      No   \n",
       "3                  No                       No                      No   \n",
       "4                  No                       No                      No   \n",
       "\n",
       "  metformin-pioglitazone change diabetesMed readmitted  \n",
       "0                     No     No          No          0  \n",
       "1                     No     Ch         Yes          0  \n",
       "2                     No     No         Yes          0  \n",
       "3                     No     Ch         Yes          0  \n",
       "4                     No     Ch         Yes          0  \n",
       "\n",
       "[5 rows x 41 columns]"
      ]
     },
     "execution_count": 44,
     "metadata": {},
     "output_type": "execute_result"
    }
   ],
   "source": [
    "df.head()"
   ]
  },
  {
   "cell_type": "code",
   "execution_count": 45,
   "id": "eb6336ef-6146-4f89-929c-e628ea6b45ba",
   "metadata": {
    "tags": []
   },
   "outputs": [],
   "source": [
    "medicine_list = ['max_glu_serum', 'A1Cresult', 'metformin', 'repaglinide', 'nateglinide',\n",
    "       'chlorpropamide', 'glimepiride', 'acetohexamide', 'glipizide',\n",
    "       'glyburide', 'tolbutamide', 'pioglitazone', 'rosiglitazone', 'acarbose',\n",
    "       'miglitol', 'troglitazone', 'tolazamide', 'examide', 'citoglipton',\n",
    "       'insulin', 'glyburide-metformin', 'glipizide-metformin',\n",
    "       'glimepiride-pioglitazone', 'metformin-rosiglitazone',\n",
    "       'metformin-pioglitazone', 'change', 'diabetesMed']"
   ]
  },
  {
   "cell_type": "code",
   "execution_count": 46,
   "id": "56179508-b944-4b2a-ac60-594dec6321f0",
   "metadata": {
    "tags": []
   },
   "outputs": [
    {
     "name": "stdout",
     "output_type": "stream",
     "text": [
      "***************** max_glu_serum *****************\n",
      "None    68032\n",
      "Norm     1731\n",
      ">200      969\n",
      ">300      756\n",
      "Name: max_glu_serum, dtype: int64\n",
      "***************** A1Cresult *****************\n",
      "None    58508\n",
      ">8       6304\n",
      "Norm     3787\n",
      ">7       2889\n",
      "Name: A1Cresult, dtype: int64\n",
      "***************** metformin *****************\n",
      "No        56504\n",
      "Steady    13711\n",
      "Up          838\n",
      "Down        435\n",
      "Name: metformin, dtype: int64\n",
      "***************** repaglinide *****************\n",
      "No        70562\n",
      "Steady      824\n",
      "Up           73\n",
      "Down         29\n",
      "Name: repaglinide, dtype: int64\n",
      "***************** nateglinide *****************\n",
      "No        70990\n",
      "Steady      474\n",
      "Up           16\n",
      "Down          8\n",
      "Name: nateglinide, dtype: int64\n",
      "***************** chlorpropamide *****************\n",
      "No        71416\n",
      "Steady       67\n",
      "Up            4\n",
      "Down          1\n",
      "Name: chlorpropamide, dtype: int64\n",
      "***************** glimepiride *****************\n",
      "No        67745\n",
      "Steady     3370\n",
      "Up          235\n",
      "Down        138\n",
      "Name: glimepiride, dtype: int64\n",
      "***************** acetohexamide *****************\n",
      "No        71487\n",
      "Steady        1\n",
      "Name: acetohexamide, dtype: int64\n",
      "***************** glipizide *****************\n",
      "No        62383\n",
      "Steady     8149\n",
      "Up          578\n",
      "Down        378\n",
      "Name: glipizide, dtype: int64\n",
      "***************** glyburide *****************\n",
      "No        63635\n",
      "Steady     6811\n",
      "Up          621\n",
      "Down        421\n",
      "Name: glyburide, dtype: int64\n",
      "***************** tolbutamide *****************\n",
      "No        71469\n",
      "Steady       19\n",
      "Name: tolbutamide, dtype: int64\n",
      "***************** pioglitazone *****************\n",
      "No        66184\n",
      "Steady     5043\n",
      "Up          180\n",
      "Down         81\n",
      "Name: pioglitazone, dtype: int64\n",
      "***************** rosiglitazone *****************\n",
      "No        66787\n",
      "Steady     4490\n",
      "Up          136\n",
      "Down         75\n",
      "Name: rosiglitazone, dtype: int64\n",
      "***************** acarbose *****************\n",
      "No        71286\n",
      "Steady      192\n",
      "Up           10\n",
      "Name: acarbose, dtype: int64\n",
      "***************** miglitol *****************\n",
      "No        71468\n",
      "Steady       18\n",
      "Down          1\n",
      "Up            1\n",
      "Name: miglitol, dtype: int64\n",
      "***************** troglitazone *****************\n",
      "No        71485\n",
      "Steady        3\n",
      "Name: troglitazone, dtype: int64\n",
      "***************** tolazamide *****************\n",
      "No        71458\n",
      "Steady       30\n",
      "Name: tolazamide, dtype: int64\n",
      "***************** examide *****************\n",
      "No    71488\n",
      "Name: examide, dtype: int64\n",
      "***************** citoglipton *****************\n",
      "No    71488\n",
      "Name: citoglipton, dtype: int64\n",
      "***************** insulin *****************\n",
      "No        34911\n",
      "Steady    22114\n",
      "Down       7503\n",
      "Up         6960\n",
      "Name: insulin, dtype: int64\n",
      "***************** glyburide-metformin *****************\n",
      "No        70986\n",
      "Steady      491\n",
      "Up            7\n",
      "Down          4\n",
      "Name: glyburide-metformin, dtype: int64\n",
      "***************** glipizide-metformin *****************\n",
      "No        71481\n",
      "Steady        7\n",
      "Name: glipizide-metformin, dtype: int64\n",
      "***************** glimepiride-pioglitazone *****************\n",
      "No    71488\n",
      "Name: glimepiride-pioglitazone, dtype: int64\n",
      "***************** metformin-rosiglitazone *****************\n",
      "No        71486\n",
      "Steady        2\n",
      "Name: metformin-rosiglitazone, dtype: int64\n",
      "***************** metformin-pioglitazone *****************\n",
      "No        71487\n",
      "Steady        1\n",
      "Name: metformin-pioglitazone, dtype: int64\n",
      "***************** change *****************\n",
      "No    39474\n",
      "Ch    32014\n",
      "Name: change, dtype: int64\n",
      "***************** diabetesMed *****************\n",
      "Yes    54297\n",
      "No     17191\n",
      "Name: diabetesMed, dtype: int64\n"
     ]
    }
   ],
   "source": [
    "for i in medicine_list:\n",
    "    print(\"*****************\",i,\"*****************\")\n",
    "    print(df[i].value_counts())"
   ]
  },
  {
   "cell_type": "code",
   "execution_count": 47,
   "id": "57a33cda-56f1-4517-bb7c-52aa4bc2cf44",
   "metadata": {
    "tags": []
   },
   "outputs": [],
   "source": [
    "medicine_to_drop = ['chlorpropamide','acetohexamide', 'tolbutamide','miglitol', 'troglitazone','tolazamide','examide','citoglipton', 'glipizide-metformin','glimepiride-pioglitazone','metformin-rosiglitazone','metformin-pioglitazone']"
   ]
  },
  {
   "cell_type": "code",
   "execution_count": 48,
   "id": "42fe4d45-678d-4a77-aedc-11d012c0b784",
   "metadata": {
    "tags": []
   },
   "outputs": [],
   "source": [
    "df = df.drop(medicine_to_drop,axis = 1)"
   ]
  },
  {
   "cell_type": "code",
   "execution_count": 49,
   "id": "3fd36be2-af02-4c07-885c-22a59034ab93",
   "metadata": {
    "tags": []
   },
   "outputs": [
    {
     "data": {
      "text/html": [
       "<div>\n",
       "<style scoped>\n",
       "    .dataframe tbody tr th:only-of-type {\n",
       "        vertical-align: middle;\n",
       "    }\n",
       "\n",
       "    .dataframe tbody tr th {\n",
       "        vertical-align: top;\n",
       "    }\n",
       "\n",
       "    .dataframe thead th {\n",
       "        text-align: right;\n",
       "    }\n",
       "</style>\n",
       "<table border=\"1\" class=\"dataframe\">\n",
       "  <thead>\n",
       "    <tr style=\"text-align: right;\">\n",
       "      <th></th>\n",
       "      <th>encounter_id</th>\n",
       "      <th>patient_nbr</th>\n",
       "      <th>race</th>\n",
       "      <th>gender</th>\n",
       "      <th>age</th>\n",
       "      <th>admission_type_id</th>\n",
       "      <th>discharge_disposition_id</th>\n",
       "      <th>admission_source_id</th>\n",
       "      <th>time_in_hospital</th>\n",
       "      <th>num_lab_procedures</th>\n",
       "      <th>...</th>\n",
       "      <th>glipizide</th>\n",
       "      <th>glyburide</th>\n",
       "      <th>pioglitazone</th>\n",
       "      <th>rosiglitazone</th>\n",
       "      <th>acarbose</th>\n",
       "      <th>insulin</th>\n",
       "      <th>glyburide-metformin</th>\n",
       "      <th>change</th>\n",
       "      <th>diabetesMed</th>\n",
       "      <th>readmitted</th>\n",
       "    </tr>\n",
       "  </thead>\n",
       "  <tbody>\n",
       "    <tr>\n",
       "      <th>0</th>\n",
       "      <td>2278392</td>\n",
       "      <td>8222157</td>\n",
       "      <td>Caucasian</td>\n",
       "      <td>Female</td>\n",
       "      <td>0</td>\n",
       "      <td>Other</td>\n",
       "      <td>Discharged to Home</td>\n",
       "      <td>Referral</td>\n",
       "      <td>1</td>\n",
       "      <td>41</td>\n",
       "      <td>...</td>\n",
       "      <td>No</td>\n",
       "      <td>No</td>\n",
       "      <td>No</td>\n",
       "      <td>No</td>\n",
       "      <td>No</td>\n",
       "      <td>No</td>\n",
       "      <td>No</td>\n",
       "      <td>No</td>\n",
       "      <td>No</td>\n",
       "      <td>0</td>\n",
       "    </tr>\n",
       "    <tr>\n",
       "      <th>1</th>\n",
       "      <td>149190</td>\n",
       "      <td>55629189</td>\n",
       "      <td>Caucasian</td>\n",
       "      <td>Female</td>\n",
       "      <td>0</td>\n",
       "      <td>Emergency</td>\n",
       "      <td>Discharged to Home</td>\n",
       "      <td>Emergency</td>\n",
       "      <td>3</td>\n",
       "      <td>59</td>\n",
       "      <td>...</td>\n",
       "      <td>No</td>\n",
       "      <td>No</td>\n",
       "      <td>No</td>\n",
       "      <td>No</td>\n",
       "      <td>No</td>\n",
       "      <td>Up</td>\n",
       "      <td>No</td>\n",
       "      <td>Ch</td>\n",
       "      <td>Yes</td>\n",
       "      <td>0</td>\n",
       "    </tr>\n",
       "    <tr>\n",
       "      <th>2</th>\n",
       "      <td>64410</td>\n",
       "      <td>86047875</td>\n",
       "      <td>AfricanAmerican</td>\n",
       "      <td>Female</td>\n",
       "      <td>1</td>\n",
       "      <td>Emergency</td>\n",
       "      <td>Discharged to Home</td>\n",
       "      <td>Emergency</td>\n",
       "      <td>2</td>\n",
       "      <td>11</td>\n",
       "      <td>...</td>\n",
       "      <td>Steady</td>\n",
       "      <td>No</td>\n",
       "      <td>No</td>\n",
       "      <td>No</td>\n",
       "      <td>No</td>\n",
       "      <td>No</td>\n",
       "      <td>No</td>\n",
       "      <td>No</td>\n",
       "      <td>Yes</td>\n",
       "      <td>0</td>\n",
       "    </tr>\n",
       "    <tr>\n",
       "      <th>3</th>\n",
       "      <td>500364</td>\n",
       "      <td>82442376</td>\n",
       "      <td>Caucasian</td>\n",
       "      <td>Male</td>\n",
       "      <td>1</td>\n",
       "      <td>Emergency</td>\n",
       "      <td>Discharged to Home</td>\n",
       "      <td>Emergency</td>\n",
       "      <td>2</td>\n",
       "      <td>44</td>\n",
       "      <td>...</td>\n",
       "      <td>No</td>\n",
       "      <td>No</td>\n",
       "      <td>No</td>\n",
       "      <td>No</td>\n",
       "      <td>No</td>\n",
       "      <td>Up</td>\n",
       "      <td>No</td>\n",
       "      <td>Ch</td>\n",
       "      <td>Yes</td>\n",
       "      <td>0</td>\n",
       "    </tr>\n",
       "    <tr>\n",
       "      <th>4</th>\n",
       "      <td>16680</td>\n",
       "      <td>42519267</td>\n",
       "      <td>Caucasian</td>\n",
       "      <td>Male</td>\n",
       "      <td>2</td>\n",
       "      <td>Emergency</td>\n",
       "      <td>Discharged to Home</td>\n",
       "      <td>Emergency</td>\n",
       "      <td>1</td>\n",
       "      <td>51</td>\n",
       "      <td>...</td>\n",
       "      <td>Steady</td>\n",
       "      <td>No</td>\n",
       "      <td>No</td>\n",
       "      <td>No</td>\n",
       "      <td>No</td>\n",
       "      <td>Steady</td>\n",
       "      <td>No</td>\n",
       "      <td>Ch</td>\n",
       "      <td>Yes</td>\n",
       "      <td>0</td>\n",
       "    </tr>\n",
       "  </tbody>\n",
       "</table>\n",
       "<p>5 rows × 29 columns</p>\n",
       "</div>"
      ],
      "text/plain": [
       "   encounter_id  patient_nbr             race  gender  age admission_type_id  \\\n",
       "0       2278392      8222157        Caucasian  Female    0             Other   \n",
       "1        149190     55629189        Caucasian  Female    0         Emergency   \n",
       "2         64410     86047875  AfricanAmerican  Female    1         Emergency   \n",
       "3        500364     82442376        Caucasian    Male    1         Emergency   \n",
       "4         16680     42519267        Caucasian    Male    2         Emergency   \n",
       "\n",
       "  discharge_disposition_id admission_source_id  time_in_hospital  \\\n",
       "0       Discharged to Home            Referral                 1   \n",
       "1       Discharged to Home           Emergency                 3   \n",
       "2       Discharged to Home           Emergency                 2   \n",
       "3       Discharged to Home           Emergency                 2   \n",
       "4       Discharged to Home           Emergency                 1   \n",
       "\n",
       "   num_lab_procedures  ...  glipizide  glyburide  pioglitazone rosiglitazone  \\\n",
       "0                  41  ...         No         No            No            No   \n",
       "1                  59  ...         No         No            No            No   \n",
       "2                  11  ...     Steady         No            No            No   \n",
       "3                  44  ...         No         No            No            No   \n",
       "4                  51  ...     Steady         No            No            No   \n",
       "\n",
       "  acarbose insulin glyburide-metformin change diabetesMed readmitted  \n",
       "0       No      No                  No     No          No          0  \n",
       "1       No      Up                  No     Ch         Yes          0  \n",
       "2       No      No                  No     No         Yes          0  \n",
       "3       No      Up                  No     Ch         Yes          0  \n",
       "4       No  Steady                  No     Ch         Yes          0  \n",
       "\n",
       "[5 rows x 29 columns]"
      ]
     },
     "execution_count": 49,
     "metadata": {},
     "output_type": "execute_result"
    }
   ],
   "source": [
    "df.head()"
   ]
  },
  {
   "cell_type": "code",
   "execution_count": 50,
   "id": "a7a3d33b-649c-4b89-a4ce-bb435823fc99",
   "metadata": {
    "tags": []
   },
   "outputs": [],
   "source": [
    "medicine_to_impute = ['max_glu_serum', 'A1Cresult', 'metformin', 'repaglinide', 'nateglinide','glimepiride','glipizide','glyburide','pioglitazone', 'rosiglitazone', 'acarbose','insulin','glyburide-metformin','change', 'diabetesMed']"
   ]
  },
  {
   "cell_type": "code",
   "execution_count": 51,
   "id": "8e8d8451-98a6-4357-8b67-40889de2f9a4",
   "metadata": {
    "tags": []
   },
   "outputs": [],
   "source": [
    "def map_medicine_values(value):\n",
    "    if value == 'No':\n",
    "        return 0\n",
    "    else:\n",
    "        return 1"
   ]
  },
  {
   "cell_type": "code",
   "execution_count": 52,
   "id": "110cd233-6872-4772-b6ac-d640e5c567c9",
   "metadata": {
    "tags": []
   },
   "outputs": [],
   "source": [
    "for i in medicine_to_impute:\n",
    "    df[i] = df[i].apply(map_medicine_values)"
   ]
  },
  {
   "cell_type": "code",
   "execution_count": 53,
   "id": "1376d316-ef7f-49d8-88e0-9b73b4bdcd94",
   "metadata": {
    "tags": []
   },
   "outputs": [
    {
     "data": {
      "text/html": [
       "<div>\n",
       "<style scoped>\n",
       "    .dataframe tbody tr th:only-of-type {\n",
       "        vertical-align: middle;\n",
       "    }\n",
       "\n",
       "    .dataframe tbody tr th {\n",
       "        vertical-align: top;\n",
       "    }\n",
       "\n",
       "    .dataframe thead th {\n",
       "        text-align: right;\n",
       "    }\n",
       "</style>\n",
       "<table border=\"1\" class=\"dataframe\">\n",
       "  <thead>\n",
       "    <tr style=\"text-align: right;\">\n",
       "      <th></th>\n",
       "      <th>encounter_id</th>\n",
       "      <th>patient_nbr</th>\n",
       "      <th>race</th>\n",
       "      <th>gender</th>\n",
       "      <th>age</th>\n",
       "      <th>admission_type_id</th>\n",
       "      <th>discharge_disposition_id</th>\n",
       "      <th>admission_source_id</th>\n",
       "      <th>time_in_hospital</th>\n",
       "      <th>num_lab_procedures</th>\n",
       "      <th>...</th>\n",
       "      <th>glipizide</th>\n",
       "      <th>glyburide</th>\n",
       "      <th>pioglitazone</th>\n",
       "      <th>rosiglitazone</th>\n",
       "      <th>acarbose</th>\n",
       "      <th>insulin</th>\n",
       "      <th>glyburide-metformin</th>\n",
       "      <th>change</th>\n",
       "      <th>diabetesMed</th>\n",
       "      <th>readmitted</th>\n",
       "    </tr>\n",
       "  </thead>\n",
       "  <tbody>\n",
       "    <tr>\n",
       "      <th>0</th>\n",
       "      <td>2278392</td>\n",
       "      <td>8222157</td>\n",
       "      <td>Caucasian</td>\n",
       "      <td>Female</td>\n",
       "      <td>0</td>\n",
       "      <td>Other</td>\n",
       "      <td>Discharged to Home</td>\n",
       "      <td>Referral</td>\n",
       "      <td>1</td>\n",
       "      <td>41</td>\n",
       "      <td>...</td>\n",
       "      <td>0</td>\n",
       "      <td>0</td>\n",
       "      <td>0</td>\n",
       "      <td>0</td>\n",
       "      <td>0</td>\n",
       "      <td>0</td>\n",
       "      <td>0</td>\n",
       "      <td>0</td>\n",
       "      <td>0</td>\n",
       "      <td>0</td>\n",
       "    </tr>\n",
       "    <tr>\n",
       "      <th>1</th>\n",
       "      <td>149190</td>\n",
       "      <td>55629189</td>\n",
       "      <td>Caucasian</td>\n",
       "      <td>Female</td>\n",
       "      <td>0</td>\n",
       "      <td>Emergency</td>\n",
       "      <td>Discharged to Home</td>\n",
       "      <td>Emergency</td>\n",
       "      <td>3</td>\n",
       "      <td>59</td>\n",
       "      <td>...</td>\n",
       "      <td>0</td>\n",
       "      <td>0</td>\n",
       "      <td>0</td>\n",
       "      <td>0</td>\n",
       "      <td>0</td>\n",
       "      <td>1</td>\n",
       "      <td>0</td>\n",
       "      <td>1</td>\n",
       "      <td>1</td>\n",
       "      <td>0</td>\n",
       "    </tr>\n",
       "    <tr>\n",
       "      <th>2</th>\n",
       "      <td>64410</td>\n",
       "      <td>86047875</td>\n",
       "      <td>AfricanAmerican</td>\n",
       "      <td>Female</td>\n",
       "      <td>1</td>\n",
       "      <td>Emergency</td>\n",
       "      <td>Discharged to Home</td>\n",
       "      <td>Emergency</td>\n",
       "      <td>2</td>\n",
       "      <td>11</td>\n",
       "      <td>...</td>\n",
       "      <td>1</td>\n",
       "      <td>0</td>\n",
       "      <td>0</td>\n",
       "      <td>0</td>\n",
       "      <td>0</td>\n",
       "      <td>0</td>\n",
       "      <td>0</td>\n",
       "      <td>0</td>\n",
       "      <td>1</td>\n",
       "      <td>0</td>\n",
       "    </tr>\n",
       "    <tr>\n",
       "      <th>3</th>\n",
       "      <td>500364</td>\n",
       "      <td>82442376</td>\n",
       "      <td>Caucasian</td>\n",
       "      <td>Male</td>\n",
       "      <td>1</td>\n",
       "      <td>Emergency</td>\n",
       "      <td>Discharged to Home</td>\n",
       "      <td>Emergency</td>\n",
       "      <td>2</td>\n",
       "      <td>44</td>\n",
       "      <td>...</td>\n",
       "      <td>0</td>\n",
       "      <td>0</td>\n",
       "      <td>0</td>\n",
       "      <td>0</td>\n",
       "      <td>0</td>\n",
       "      <td>1</td>\n",
       "      <td>0</td>\n",
       "      <td>1</td>\n",
       "      <td>1</td>\n",
       "      <td>0</td>\n",
       "    </tr>\n",
       "    <tr>\n",
       "      <th>4</th>\n",
       "      <td>16680</td>\n",
       "      <td>42519267</td>\n",
       "      <td>Caucasian</td>\n",
       "      <td>Male</td>\n",
       "      <td>2</td>\n",
       "      <td>Emergency</td>\n",
       "      <td>Discharged to Home</td>\n",
       "      <td>Emergency</td>\n",
       "      <td>1</td>\n",
       "      <td>51</td>\n",
       "      <td>...</td>\n",
       "      <td>1</td>\n",
       "      <td>0</td>\n",
       "      <td>0</td>\n",
       "      <td>0</td>\n",
       "      <td>0</td>\n",
       "      <td>1</td>\n",
       "      <td>0</td>\n",
       "      <td>1</td>\n",
       "      <td>1</td>\n",
       "      <td>0</td>\n",
       "    </tr>\n",
       "  </tbody>\n",
       "</table>\n",
       "<p>5 rows × 29 columns</p>\n",
       "</div>"
      ],
      "text/plain": [
       "   encounter_id  patient_nbr             race  gender  age admission_type_id  \\\n",
       "0       2278392      8222157        Caucasian  Female    0             Other   \n",
       "1        149190     55629189        Caucasian  Female    0         Emergency   \n",
       "2         64410     86047875  AfricanAmerican  Female    1         Emergency   \n",
       "3        500364     82442376        Caucasian    Male    1         Emergency   \n",
       "4         16680     42519267        Caucasian    Male    2         Emergency   \n",
       "\n",
       "  discharge_disposition_id admission_source_id  time_in_hospital  \\\n",
       "0       Discharged to Home            Referral                 1   \n",
       "1       Discharged to Home           Emergency                 3   \n",
       "2       Discharged to Home           Emergency                 2   \n",
       "3       Discharged to Home           Emergency                 2   \n",
       "4       Discharged to Home           Emergency                 1   \n",
       "\n",
       "   num_lab_procedures  ...  glipizide  glyburide  pioglitazone  rosiglitazone  \\\n",
       "0                  41  ...          0          0             0              0   \n",
       "1                  59  ...          0          0             0              0   \n",
       "2                  11  ...          1          0             0              0   \n",
       "3                  44  ...          0          0             0              0   \n",
       "4                  51  ...          1          0             0              0   \n",
       "\n",
       "   acarbose  insulin  glyburide-metformin  change  diabetesMed  readmitted  \n",
       "0         0        0                    0       0            0           0  \n",
       "1         0        1                    0       1            1           0  \n",
       "2         0        0                    0       0            1           0  \n",
       "3         0        1                    0       1            1           0  \n",
       "4         0        1                    0       1            1           0  \n",
       "\n",
       "[5 rows x 29 columns]"
      ]
     },
     "execution_count": 53,
     "metadata": {},
     "output_type": "execute_result"
    }
   ],
   "source": [
    "df.head()"
   ]
  },
  {
   "cell_type": "code",
   "execution_count": 54,
   "id": "f1127335-4a29-4d26-beb3-187d429dfe71",
   "metadata": {
    "tags": []
   },
   "outputs": [],
   "source": [
    "df = df.drop(['encounter_id','patient_nbr'],axis = 1)"
   ]
  },
  {
   "cell_type": "code",
   "execution_count": 55,
   "id": "8d66a6f1-dc16-459b-965c-29692f95a94d",
   "metadata": {
    "tags": []
   },
   "outputs": [
    {
     "data": {
      "text/html": [
       "<div>\n",
       "<style scoped>\n",
       "    .dataframe tbody tr th:only-of-type {\n",
       "        vertical-align: middle;\n",
       "    }\n",
       "\n",
       "    .dataframe tbody tr th {\n",
       "        vertical-align: top;\n",
       "    }\n",
       "\n",
       "    .dataframe thead th {\n",
       "        text-align: right;\n",
       "    }\n",
       "</style>\n",
       "<table border=\"1\" class=\"dataframe\">\n",
       "  <thead>\n",
       "    <tr style=\"text-align: right;\">\n",
       "      <th></th>\n",
       "      <th>race</th>\n",
       "      <th>gender</th>\n",
       "      <th>age</th>\n",
       "      <th>admission_type_id</th>\n",
       "      <th>discharge_disposition_id</th>\n",
       "      <th>admission_source_id</th>\n",
       "      <th>time_in_hospital</th>\n",
       "      <th>num_lab_procedures</th>\n",
       "      <th>num_procedures</th>\n",
       "      <th>num_medications</th>\n",
       "      <th>...</th>\n",
       "      <th>glipizide</th>\n",
       "      <th>glyburide</th>\n",
       "      <th>pioglitazone</th>\n",
       "      <th>rosiglitazone</th>\n",
       "      <th>acarbose</th>\n",
       "      <th>insulin</th>\n",
       "      <th>glyburide-metformin</th>\n",
       "      <th>change</th>\n",
       "      <th>diabetesMed</th>\n",
       "      <th>readmitted</th>\n",
       "    </tr>\n",
       "  </thead>\n",
       "  <tbody>\n",
       "    <tr>\n",
       "      <th>0</th>\n",
       "      <td>Caucasian</td>\n",
       "      <td>Female</td>\n",
       "      <td>0</td>\n",
       "      <td>Other</td>\n",
       "      <td>Discharged to Home</td>\n",
       "      <td>Referral</td>\n",
       "      <td>1</td>\n",
       "      <td>41</td>\n",
       "      <td>0</td>\n",
       "      <td>1</td>\n",
       "      <td>...</td>\n",
       "      <td>0</td>\n",
       "      <td>0</td>\n",
       "      <td>0</td>\n",
       "      <td>0</td>\n",
       "      <td>0</td>\n",
       "      <td>0</td>\n",
       "      <td>0</td>\n",
       "      <td>0</td>\n",
       "      <td>0</td>\n",
       "      <td>0</td>\n",
       "    </tr>\n",
       "    <tr>\n",
       "      <th>1</th>\n",
       "      <td>Caucasian</td>\n",
       "      <td>Female</td>\n",
       "      <td>0</td>\n",
       "      <td>Emergency</td>\n",
       "      <td>Discharged to Home</td>\n",
       "      <td>Emergency</td>\n",
       "      <td>3</td>\n",
       "      <td>59</td>\n",
       "      <td>0</td>\n",
       "      <td>18</td>\n",
       "      <td>...</td>\n",
       "      <td>0</td>\n",
       "      <td>0</td>\n",
       "      <td>0</td>\n",
       "      <td>0</td>\n",
       "      <td>0</td>\n",
       "      <td>1</td>\n",
       "      <td>0</td>\n",
       "      <td>1</td>\n",
       "      <td>1</td>\n",
       "      <td>0</td>\n",
       "    </tr>\n",
       "    <tr>\n",
       "      <th>2</th>\n",
       "      <td>AfricanAmerican</td>\n",
       "      <td>Female</td>\n",
       "      <td>1</td>\n",
       "      <td>Emergency</td>\n",
       "      <td>Discharged to Home</td>\n",
       "      <td>Emergency</td>\n",
       "      <td>2</td>\n",
       "      <td>11</td>\n",
       "      <td>5</td>\n",
       "      <td>13</td>\n",
       "      <td>...</td>\n",
       "      <td>1</td>\n",
       "      <td>0</td>\n",
       "      <td>0</td>\n",
       "      <td>0</td>\n",
       "      <td>0</td>\n",
       "      <td>0</td>\n",
       "      <td>0</td>\n",
       "      <td>0</td>\n",
       "      <td>1</td>\n",
       "      <td>0</td>\n",
       "    </tr>\n",
       "    <tr>\n",
       "      <th>3</th>\n",
       "      <td>Caucasian</td>\n",
       "      <td>Male</td>\n",
       "      <td>1</td>\n",
       "      <td>Emergency</td>\n",
       "      <td>Discharged to Home</td>\n",
       "      <td>Emergency</td>\n",
       "      <td>2</td>\n",
       "      <td>44</td>\n",
       "      <td>1</td>\n",
       "      <td>16</td>\n",
       "      <td>...</td>\n",
       "      <td>0</td>\n",
       "      <td>0</td>\n",
       "      <td>0</td>\n",
       "      <td>0</td>\n",
       "      <td>0</td>\n",
       "      <td>1</td>\n",
       "      <td>0</td>\n",
       "      <td>1</td>\n",
       "      <td>1</td>\n",
       "      <td>0</td>\n",
       "    </tr>\n",
       "    <tr>\n",
       "      <th>4</th>\n",
       "      <td>Caucasian</td>\n",
       "      <td>Male</td>\n",
       "      <td>2</td>\n",
       "      <td>Emergency</td>\n",
       "      <td>Discharged to Home</td>\n",
       "      <td>Emergency</td>\n",
       "      <td>1</td>\n",
       "      <td>51</td>\n",
       "      <td>0</td>\n",
       "      <td>8</td>\n",
       "      <td>...</td>\n",
       "      <td>1</td>\n",
       "      <td>0</td>\n",
       "      <td>0</td>\n",
       "      <td>0</td>\n",
       "      <td>0</td>\n",
       "      <td>1</td>\n",
       "      <td>0</td>\n",
       "      <td>1</td>\n",
       "      <td>1</td>\n",
       "      <td>0</td>\n",
       "    </tr>\n",
       "  </tbody>\n",
       "</table>\n",
       "<p>5 rows × 27 columns</p>\n",
       "</div>"
      ],
      "text/plain": [
       "              race  gender  age admission_type_id discharge_disposition_id  \\\n",
       "0        Caucasian  Female    0             Other       Discharged to Home   \n",
       "1        Caucasian  Female    0         Emergency       Discharged to Home   \n",
       "2  AfricanAmerican  Female    1         Emergency       Discharged to Home   \n",
       "3        Caucasian    Male    1         Emergency       Discharged to Home   \n",
       "4        Caucasian    Male    2         Emergency       Discharged to Home   \n",
       "\n",
       "  admission_source_id  time_in_hospital  num_lab_procedures  num_procedures  \\\n",
       "0            Referral                 1                  41               0   \n",
       "1           Emergency                 3                  59               0   \n",
       "2           Emergency                 2                  11               5   \n",
       "3           Emergency                 2                  44               1   \n",
       "4           Emergency                 1                  51               0   \n",
       "\n",
       "   num_medications  ...  glipizide  glyburide  pioglitazone  rosiglitazone  \\\n",
       "0                1  ...          0          0             0              0   \n",
       "1               18  ...          0          0             0              0   \n",
       "2               13  ...          1          0             0              0   \n",
       "3               16  ...          0          0             0              0   \n",
       "4                8  ...          1          0             0              0   \n",
       "\n",
       "   acarbose  insulin  glyburide-metformin  change  diabetesMed  readmitted  \n",
       "0         0        0                    0       0            0           0  \n",
       "1         0        1                    0       1            1           0  \n",
       "2         0        0                    0       0            1           0  \n",
       "3         0        1                    0       1            1           0  \n",
       "4         0        1                    0       1            1           0  \n",
       "\n",
       "[5 rows x 27 columns]"
      ]
     },
     "execution_count": 55,
     "metadata": {},
     "output_type": "execute_result"
    }
   ],
   "source": [
    "df.head()"
   ]
  },
  {
   "cell_type": "code",
   "execution_count": 56,
   "id": "28f6d0a2-f2aa-4ac1-9fe3-180cb48b102d",
   "metadata": {
    "tags": []
   },
   "outputs": [
    {
     "data": {
      "text/plain": [
       "Index(['race', 'gender', 'age', 'admission_type_id',\n",
       "       'discharge_disposition_id', 'admission_source_id', 'time_in_hospital',\n",
       "       'num_lab_procedures', 'num_procedures', 'num_medications',\n",
       "       'number_diagnoses', 'max_glu_serum', 'A1Cresult', 'metformin',\n",
       "       'repaglinide', 'nateglinide', 'glimepiride', 'glipizide', 'glyburide',\n",
       "       'pioglitazone', 'rosiglitazone', 'acarbose', 'insulin',\n",
       "       'glyburide-metformin', 'change', 'diabetesMed', 'readmitted'],\n",
       "      dtype='object')"
      ]
     },
     "execution_count": 56,
     "metadata": {},
     "output_type": "execute_result"
    }
   ],
   "source": [
    "df.columns"
   ]
  },
  {
   "cell_type": "code",
   "execution_count": 57,
   "id": "5af4ac31-52dc-4718-9494-fbbcff3ba87e",
   "metadata": {
    "tags": []
   },
   "outputs": [],
   "source": [
    "cat_columns = ['race','gender','admission_type_id','discharge_disposition_id', 'admission_source_id']"
   ]
  },
  {
   "cell_type": "code",
   "execution_count": 58,
   "id": "73352844-c56d-49ae-9acc-95e3d31ecc77",
   "metadata": {
    "tags": []
   },
   "outputs": [],
   "source": [
    "df = pd.get_dummies(df, prefix_sep='_', dummy_na=False, drop_first=True, columns=cat_columns)"
   ]
  },
  {
   "cell_type": "code",
   "execution_count": 59,
   "id": "d96aeea6-6bcf-40fe-97c7-860513f2221a",
   "metadata": {
    "tags": []
   },
   "outputs": [
    {
     "data": {
      "text/html": [
       "<div>\n",
       "<style scoped>\n",
       "    .dataframe tbody tr th:only-of-type {\n",
       "        vertical-align: middle;\n",
       "    }\n",
       "\n",
       "    .dataframe tbody tr th {\n",
       "        vertical-align: top;\n",
       "    }\n",
       "\n",
       "    .dataframe thead th {\n",
       "        text-align: right;\n",
       "    }\n",
       "</style>\n",
       "<table border=\"1\" class=\"dataframe\">\n",
       "  <thead>\n",
       "    <tr style=\"text-align: right;\">\n",
       "      <th></th>\n",
       "      <th>age</th>\n",
       "      <th>time_in_hospital</th>\n",
       "      <th>num_lab_procedures</th>\n",
       "      <th>num_procedures</th>\n",
       "      <th>num_medications</th>\n",
       "      <th>number_diagnoses</th>\n",
       "      <th>max_glu_serum</th>\n",
       "      <th>A1Cresult</th>\n",
       "      <th>metformin</th>\n",
       "      <th>repaglinide</th>\n",
       "      <th>...</th>\n",
       "      <th>readmitted</th>\n",
       "      <th>race_Caucasian</th>\n",
       "      <th>race_Other</th>\n",
       "      <th>gender_Male</th>\n",
       "      <th>gender_Unknown/Invalid</th>\n",
       "      <th>admission_type_id_Emergency</th>\n",
       "      <th>admission_type_id_Other</th>\n",
       "      <th>discharge_disposition_id_Other</th>\n",
       "      <th>admission_source_id_Other</th>\n",
       "      <th>admission_source_id_Referral</th>\n",
       "    </tr>\n",
       "  </thead>\n",
       "  <tbody>\n",
       "    <tr>\n",
       "      <th>0</th>\n",
       "      <td>0</td>\n",
       "      <td>1</td>\n",
       "      <td>41</td>\n",
       "      <td>0</td>\n",
       "      <td>1</td>\n",
       "      <td>1</td>\n",
       "      <td>1</td>\n",
       "      <td>1</td>\n",
       "      <td>0</td>\n",
       "      <td>0</td>\n",
       "      <td>...</td>\n",
       "      <td>0</td>\n",
       "      <td>1</td>\n",
       "      <td>0</td>\n",
       "      <td>0</td>\n",
       "      <td>0</td>\n",
       "      <td>0</td>\n",
       "      <td>1</td>\n",
       "      <td>0</td>\n",
       "      <td>0</td>\n",
       "      <td>1</td>\n",
       "    </tr>\n",
       "    <tr>\n",
       "      <th>1</th>\n",
       "      <td>0</td>\n",
       "      <td>3</td>\n",
       "      <td>59</td>\n",
       "      <td>0</td>\n",
       "      <td>18</td>\n",
       "      <td>9</td>\n",
       "      <td>1</td>\n",
       "      <td>1</td>\n",
       "      <td>0</td>\n",
       "      <td>0</td>\n",
       "      <td>...</td>\n",
       "      <td>0</td>\n",
       "      <td>1</td>\n",
       "      <td>0</td>\n",
       "      <td>0</td>\n",
       "      <td>0</td>\n",
       "      <td>1</td>\n",
       "      <td>0</td>\n",
       "      <td>0</td>\n",
       "      <td>0</td>\n",
       "      <td>0</td>\n",
       "    </tr>\n",
       "    <tr>\n",
       "      <th>2</th>\n",
       "      <td>1</td>\n",
       "      <td>2</td>\n",
       "      <td>11</td>\n",
       "      <td>5</td>\n",
       "      <td>13</td>\n",
       "      <td>6</td>\n",
       "      <td>1</td>\n",
       "      <td>1</td>\n",
       "      <td>0</td>\n",
       "      <td>0</td>\n",
       "      <td>...</td>\n",
       "      <td>0</td>\n",
       "      <td>0</td>\n",
       "      <td>0</td>\n",
       "      <td>0</td>\n",
       "      <td>0</td>\n",
       "      <td>1</td>\n",
       "      <td>0</td>\n",
       "      <td>0</td>\n",
       "      <td>0</td>\n",
       "      <td>0</td>\n",
       "    </tr>\n",
       "    <tr>\n",
       "      <th>3</th>\n",
       "      <td>1</td>\n",
       "      <td>2</td>\n",
       "      <td>44</td>\n",
       "      <td>1</td>\n",
       "      <td>16</td>\n",
       "      <td>7</td>\n",
       "      <td>1</td>\n",
       "      <td>1</td>\n",
       "      <td>0</td>\n",
       "      <td>0</td>\n",
       "      <td>...</td>\n",
       "      <td>0</td>\n",
       "      <td>1</td>\n",
       "      <td>0</td>\n",
       "      <td>1</td>\n",
       "      <td>0</td>\n",
       "      <td>1</td>\n",
       "      <td>0</td>\n",
       "      <td>0</td>\n",
       "      <td>0</td>\n",
       "      <td>0</td>\n",
       "    </tr>\n",
       "    <tr>\n",
       "      <th>4</th>\n",
       "      <td>2</td>\n",
       "      <td>1</td>\n",
       "      <td>51</td>\n",
       "      <td>0</td>\n",
       "      <td>8</td>\n",
       "      <td>5</td>\n",
       "      <td>1</td>\n",
       "      <td>1</td>\n",
       "      <td>0</td>\n",
       "      <td>0</td>\n",
       "      <td>...</td>\n",
       "      <td>0</td>\n",
       "      <td>1</td>\n",
       "      <td>0</td>\n",
       "      <td>1</td>\n",
       "      <td>0</td>\n",
       "      <td>1</td>\n",
       "      <td>0</td>\n",
       "      <td>0</td>\n",
       "      <td>0</td>\n",
       "      <td>0</td>\n",
       "    </tr>\n",
       "  </tbody>\n",
       "</table>\n",
       "<p>5 rows × 31 columns</p>\n",
       "</div>"
      ],
      "text/plain": [
       "   age  time_in_hospital  num_lab_procedures  num_procedures  num_medications  \\\n",
       "0    0                 1                  41               0                1   \n",
       "1    0                 3                  59               0               18   \n",
       "2    1                 2                  11               5               13   \n",
       "3    1                 2                  44               1               16   \n",
       "4    2                 1                  51               0                8   \n",
       "\n",
       "   number_diagnoses  max_glu_serum  A1Cresult  metformin  repaglinide  ...  \\\n",
       "0                 1              1          1          0            0  ...   \n",
       "1                 9              1          1          0            0  ...   \n",
       "2                 6              1          1          0            0  ...   \n",
       "3                 7              1          1          0            0  ...   \n",
       "4                 5              1          1          0            0  ...   \n",
       "\n",
       "   readmitted  race_Caucasian  race_Other  gender_Male  \\\n",
       "0           0               1           0            0   \n",
       "1           0               1           0            0   \n",
       "2           0               0           0            0   \n",
       "3           0               1           0            1   \n",
       "4           0               1           0            1   \n",
       "\n",
       "   gender_Unknown/Invalid  admission_type_id_Emergency  \\\n",
       "0                       0                            0   \n",
       "1                       0                            1   \n",
       "2                       0                            1   \n",
       "3                       0                            1   \n",
       "4                       0                            1   \n",
       "\n",
       "   admission_type_id_Other  discharge_disposition_id_Other  \\\n",
       "0                        1                               0   \n",
       "1                        0                               0   \n",
       "2                        0                               0   \n",
       "3                        0                               0   \n",
       "4                        0                               0   \n",
       "\n",
       "   admission_source_id_Other  admission_source_id_Referral  \n",
       "0                          0                             1  \n",
       "1                          0                             0  \n",
       "2                          0                             0  \n",
       "3                          0                             0  \n",
       "4                          0                             0  \n",
       "\n",
       "[5 rows x 31 columns]"
      ]
     },
     "execution_count": 59,
     "metadata": {},
     "output_type": "execute_result"
    }
   ],
   "source": [
    "df.head()"
   ]
  },
  {
   "cell_type": "code",
   "execution_count": 87,
   "id": "98d93aa5-2a05-4ade-baba-4bfcc22d607d",
   "metadata": {
    "tags": []
   },
   "outputs": [
    {
     "name": "stdout",
     "output_type": "stream",
     "text": [
      "Training   :  (35744, 31)\n",
      "Validation :  (35744, 31)\n"
     ]
    }
   ],
   "source": [
    "# random_state is set to a defined value to get the same partitions when re-running the code\n",
    "train_data= df.sample(frac=0.5, random_state=1)\n",
    "# assign rows that are not already in the training set, into validation \n",
    "valid_data = df.drop(train_data.index)\n",
    "\n",
    "print('Training   : ', train_data.shape)\n",
    "print('Validation : ', valid_data.shape)"
   ]
  },
  {
   "cell_type": "code",
   "execution_count": 88,
   "id": "b4e37d05-62e1-48c2-95fb-e812d8839ce1",
   "metadata": {
    "tags": []
   },
   "outputs": [
    {
     "data": {
      "text/html": [
       "<div>\n",
       "<style scoped>\n",
       "    .dataframe tbody tr th:only-of-type {\n",
       "        vertical-align: middle;\n",
       "    }\n",
       "\n",
       "    .dataframe tbody tr th {\n",
       "        vertical-align: top;\n",
       "    }\n",
       "\n",
       "    .dataframe thead th {\n",
       "        text-align: right;\n",
       "    }\n",
       "</style>\n",
       "<table border=\"1\" class=\"dataframe\">\n",
       "  <thead>\n",
       "    <tr style=\"text-align: right;\">\n",
       "      <th></th>\n",
       "      <th>age</th>\n",
       "      <th>time_in_hospital</th>\n",
       "      <th>num_lab_procedures</th>\n",
       "      <th>num_procedures</th>\n",
       "      <th>num_medications</th>\n",
       "      <th>number_diagnoses</th>\n",
       "      <th>max_glu_serum</th>\n",
       "      <th>A1Cresult</th>\n",
       "      <th>metformin</th>\n",
       "      <th>repaglinide</th>\n",
       "      <th>...</th>\n",
       "      <th>readmitted</th>\n",
       "      <th>race_Caucasian</th>\n",
       "      <th>race_Other</th>\n",
       "      <th>gender_Male</th>\n",
       "      <th>gender_Unknown/Invalid</th>\n",
       "      <th>admission_type_id_Emergency</th>\n",
       "      <th>admission_type_id_Other</th>\n",
       "      <th>discharge_disposition_id_Other</th>\n",
       "      <th>admission_source_id_Other</th>\n",
       "      <th>admission_source_id_Referral</th>\n",
       "    </tr>\n",
       "  </thead>\n",
       "  <tbody>\n",
       "    <tr>\n",
       "      <th>44748</th>\n",
       "      <td>2</td>\n",
       "      <td>5</td>\n",
       "      <td>38</td>\n",
       "      <td>0</td>\n",
       "      <td>16</td>\n",
       "      <td>9</td>\n",
       "      <td>1</td>\n",
       "      <td>1</td>\n",
       "      <td>1</td>\n",
       "      <td>0</td>\n",
       "      <td>...</td>\n",
       "      <td>0</td>\n",
       "      <td>0</td>\n",
       "      <td>0</td>\n",
       "      <td>1</td>\n",
       "      <td>0</td>\n",
       "      <td>1</td>\n",
       "      <td>0</td>\n",
       "      <td>0</td>\n",
       "      <td>0</td>\n",
       "      <td>0</td>\n",
       "    </tr>\n",
       "    <tr>\n",
       "      <th>11187</th>\n",
       "      <td>2</td>\n",
       "      <td>2</td>\n",
       "      <td>34</td>\n",
       "      <td>3</td>\n",
       "      <td>8</td>\n",
       "      <td>6</td>\n",
       "      <td>1</td>\n",
       "      <td>1</td>\n",
       "      <td>0</td>\n",
       "      <td>0</td>\n",
       "      <td>...</td>\n",
       "      <td>0</td>\n",
       "      <td>0</td>\n",
       "      <td>0</td>\n",
       "      <td>1</td>\n",
       "      <td>0</td>\n",
       "      <td>1</td>\n",
       "      <td>0</td>\n",
       "      <td>0</td>\n",
       "      <td>0</td>\n",
       "      <td>0</td>\n",
       "    </tr>\n",
       "    <tr>\n",
       "      <th>45442</th>\n",
       "      <td>3</td>\n",
       "      <td>3</td>\n",
       "      <td>2</td>\n",
       "      <td>1</td>\n",
       "      <td>6</td>\n",
       "      <td>7</td>\n",
       "      <td>1</td>\n",
       "      <td>1</td>\n",
       "      <td>1</td>\n",
       "      <td>0</td>\n",
       "      <td>...</td>\n",
       "      <td>0</td>\n",
       "      <td>0</td>\n",
       "      <td>1</td>\n",
       "      <td>0</td>\n",
       "      <td>0</td>\n",
       "      <td>1</td>\n",
       "      <td>0</td>\n",
       "      <td>0</td>\n",
       "      <td>0</td>\n",
       "      <td>0</td>\n",
       "    </tr>\n",
       "    <tr>\n",
       "      <th>31492</th>\n",
       "      <td>2</td>\n",
       "      <td>6</td>\n",
       "      <td>31</td>\n",
       "      <td>0</td>\n",
       "      <td>17</td>\n",
       "      <td>5</td>\n",
       "      <td>1</td>\n",
       "      <td>1</td>\n",
       "      <td>1</td>\n",
       "      <td>0</td>\n",
       "      <td>...</td>\n",
       "      <td>0</td>\n",
       "      <td>1</td>\n",
       "      <td>0</td>\n",
       "      <td>0</td>\n",
       "      <td>0</td>\n",
       "      <td>1</td>\n",
       "      <td>0</td>\n",
       "      <td>0</td>\n",
       "      <td>1</td>\n",
       "      <td>0</td>\n",
       "    </tr>\n",
       "    <tr>\n",
       "      <th>96962</th>\n",
       "      <td>3</td>\n",
       "      <td>6</td>\n",
       "      <td>69</td>\n",
       "      <td>1</td>\n",
       "      <td>32</td>\n",
       "      <td>9</td>\n",
       "      <td>1</td>\n",
       "      <td>1</td>\n",
       "      <td>0</td>\n",
       "      <td>0</td>\n",
       "      <td>...</td>\n",
       "      <td>0</td>\n",
       "      <td>1</td>\n",
       "      <td>0</td>\n",
       "      <td>1</td>\n",
       "      <td>0</td>\n",
       "      <td>1</td>\n",
       "      <td>0</td>\n",
       "      <td>0</td>\n",
       "      <td>0</td>\n",
       "      <td>0</td>\n",
       "    </tr>\n",
       "  </tbody>\n",
       "</table>\n",
       "<p>5 rows × 31 columns</p>\n",
       "</div>"
      ],
      "text/plain": [
       "       age  time_in_hospital  num_lab_procedures  num_procedures  \\\n",
       "44748    2                 5                  38               0   \n",
       "11187    2                 2                  34               3   \n",
       "45442    3                 3                   2               1   \n",
       "31492    2                 6                  31               0   \n",
       "96962    3                 6                  69               1   \n",
       "\n",
       "       num_medications  number_diagnoses  max_glu_serum  A1Cresult  metformin  \\\n",
       "44748               16                 9              1          1          1   \n",
       "11187                8                 6              1          1          0   \n",
       "45442                6                 7              1          1          1   \n",
       "31492               17                 5              1          1          1   \n",
       "96962               32                 9              1          1          0   \n",
       "\n",
       "       repaglinide  ...  readmitted  race_Caucasian  race_Other  gender_Male  \\\n",
       "44748            0  ...           0               0           0            1   \n",
       "11187            0  ...           0               0           0            1   \n",
       "45442            0  ...           0               0           1            0   \n",
       "31492            0  ...           0               1           0            0   \n",
       "96962            0  ...           0               1           0            1   \n",
       "\n",
       "       gender_Unknown/Invalid  admission_type_id_Emergency  \\\n",
       "44748                       0                            1   \n",
       "11187                       0                            1   \n",
       "45442                       0                            1   \n",
       "31492                       0                            1   \n",
       "96962                       0                            1   \n",
       "\n",
       "       admission_type_id_Other  discharge_disposition_id_Other  \\\n",
       "44748                        0                               0   \n",
       "11187                        0                               0   \n",
       "45442                        0                               0   \n",
       "31492                        0                               0   \n",
       "96962                        0                               0   \n",
       "\n",
       "       admission_source_id_Other  admission_source_id_Referral  \n",
       "44748                          0                             0  \n",
       "11187                          0                             0  \n",
       "45442                          0                             0  \n",
       "31492                          1                             0  \n",
       "96962                          0                             0  \n",
       "\n",
       "[5 rows x 31 columns]"
      ]
     },
     "execution_count": 88,
     "metadata": {},
     "output_type": "execute_result"
    }
   ],
   "source": [
    "train_data.head()"
   ]
  },
  {
   "cell_type": "code",
   "execution_count": 89,
   "id": "d8f95827-2bea-4fb5-812f-d0cebe4d65b4",
   "metadata": {
    "tags": []
   },
   "outputs": [],
   "source": [
    "columns_to_standardize = ['time_in_hospital', 'num_lab_procedures', 'num_procedures', 'num_medications', 'number_diagnoses']"
   ]
  },
  {
   "cell_type": "code",
   "execution_count": 90,
   "id": "34f80411-032f-48c9-81a2-d331e2a1b1e6",
   "metadata": {
    "tags": []
   },
   "outputs": [],
   "source": [
    "scaler = StandardScaler()\n",
    "\n",
    "train_data[columns_to_standardize] = scaler.fit_transform(train_data[columns_to_standardize])\n",
    "valid_data[columns_to_standardize] = scaler.fit_transform(valid_data[columns_to_standardize])"
   ]
  },
  {
   "cell_type": "code",
   "execution_count": 91,
   "id": "caa5880a-a76b-41dc-a4b8-7777985ffa61",
   "metadata": {
    "tags": []
   },
   "outputs": [
    {
     "data": {
      "text/html": [
       "<div>\n",
       "<style scoped>\n",
       "    .dataframe tbody tr th:only-of-type {\n",
       "        vertical-align: middle;\n",
       "    }\n",
       "\n",
       "    .dataframe tbody tr th {\n",
       "        vertical-align: top;\n",
       "    }\n",
       "\n",
       "    .dataframe thead th {\n",
       "        text-align: right;\n",
       "    }\n",
       "</style>\n",
       "<table border=\"1\" class=\"dataframe\">\n",
       "  <thead>\n",
       "    <tr style=\"text-align: right;\">\n",
       "      <th></th>\n",
       "      <th>age</th>\n",
       "      <th>time_in_hospital</th>\n",
       "      <th>num_lab_procedures</th>\n",
       "      <th>num_procedures</th>\n",
       "      <th>num_medications</th>\n",
       "      <th>number_diagnoses</th>\n",
       "      <th>max_glu_serum</th>\n",
       "      <th>A1Cresult</th>\n",
       "      <th>metformin</th>\n",
       "      <th>repaglinide</th>\n",
       "      <th>...</th>\n",
       "      <th>readmitted</th>\n",
       "      <th>race_Caucasian</th>\n",
       "      <th>race_Other</th>\n",
       "      <th>gender_Male</th>\n",
       "      <th>gender_Unknown/Invalid</th>\n",
       "      <th>admission_type_id_Emergency</th>\n",
       "      <th>admission_type_id_Other</th>\n",
       "      <th>discharge_disposition_id_Other</th>\n",
       "      <th>admission_source_id_Other</th>\n",
       "      <th>admission_source_id_Referral</th>\n",
       "    </tr>\n",
       "  </thead>\n",
       "  <tbody>\n",
       "    <tr>\n",
       "      <th>44748</th>\n",
       "      <td>2</td>\n",
       "      <td>0.240492</td>\n",
       "      <td>-0.252704</td>\n",
       "      <td>-0.815153</td>\n",
       "      <td>0.033393</td>\n",
       "      <td>0.880130</td>\n",
       "      <td>1</td>\n",
       "      <td>1</td>\n",
       "      <td>1</td>\n",
       "      <td>0</td>\n",
       "      <td>...</td>\n",
       "      <td>0</td>\n",
       "      <td>0</td>\n",
       "      <td>0</td>\n",
       "      <td>1</td>\n",
       "      <td>0</td>\n",
       "      <td>1</td>\n",
       "      <td>0</td>\n",
       "      <td>0</td>\n",
       "      <td>0</td>\n",
       "      <td>0</td>\n",
       "    </tr>\n",
       "    <tr>\n",
       "      <th>11187</th>\n",
       "      <td>2</td>\n",
       "      <td>-0.776802</td>\n",
       "      <td>-0.453464</td>\n",
       "      <td>0.893852</td>\n",
       "      <td>-0.923796</td>\n",
       "      <td>-0.621176</td>\n",
       "      <td>1</td>\n",
       "      <td>1</td>\n",
       "      <td>0</td>\n",
       "      <td>0</td>\n",
       "      <td>...</td>\n",
       "      <td>0</td>\n",
       "      <td>0</td>\n",
       "      <td>0</td>\n",
       "      <td>1</td>\n",
       "      <td>0</td>\n",
       "      <td>1</td>\n",
       "      <td>0</td>\n",
       "      <td>0</td>\n",
       "      <td>0</td>\n",
       "      <td>0</td>\n",
       "    </tr>\n",
       "    <tr>\n",
       "      <th>45442</th>\n",
       "      <td>3</td>\n",
       "      <td>-0.437704</td>\n",
       "      <td>-2.059545</td>\n",
       "      <td>-0.245485</td>\n",
       "      <td>-1.163093</td>\n",
       "      <td>-0.120741</td>\n",
       "      <td>1</td>\n",
       "      <td>1</td>\n",
       "      <td>1</td>\n",
       "      <td>0</td>\n",
       "      <td>...</td>\n",
       "      <td>0</td>\n",
       "      <td>0</td>\n",
       "      <td>1</td>\n",
       "      <td>0</td>\n",
       "      <td>0</td>\n",
       "      <td>1</td>\n",
       "      <td>0</td>\n",
       "      <td>0</td>\n",
       "      <td>0</td>\n",
       "      <td>0</td>\n",
       "    </tr>\n",
       "    <tr>\n",
       "      <th>31492</th>\n",
       "      <td>2</td>\n",
       "      <td>0.579589</td>\n",
       "      <td>-0.604034</td>\n",
       "      <td>-0.815153</td>\n",
       "      <td>0.153042</td>\n",
       "      <td>-1.121612</td>\n",
       "      <td>1</td>\n",
       "      <td>1</td>\n",
       "      <td>1</td>\n",
       "      <td>0</td>\n",
       "      <td>...</td>\n",
       "      <td>0</td>\n",
       "      <td>1</td>\n",
       "      <td>0</td>\n",
       "      <td>0</td>\n",
       "      <td>0</td>\n",
       "      <td>1</td>\n",
       "      <td>0</td>\n",
       "      <td>0</td>\n",
       "      <td>1</td>\n",
       "      <td>0</td>\n",
       "    </tr>\n",
       "    <tr>\n",
       "      <th>96962</th>\n",
       "      <td>3</td>\n",
       "      <td>0.579589</td>\n",
       "      <td>1.303187</td>\n",
       "      <td>-0.245485</td>\n",
       "      <td>1.947772</td>\n",
       "      <td>0.880130</td>\n",
       "      <td>1</td>\n",
       "      <td>1</td>\n",
       "      <td>0</td>\n",
       "      <td>0</td>\n",
       "      <td>...</td>\n",
       "      <td>0</td>\n",
       "      <td>1</td>\n",
       "      <td>0</td>\n",
       "      <td>1</td>\n",
       "      <td>0</td>\n",
       "      <td>1</td>\n",
       "      <td>0</td>\n",
       "      <td>0</td>\n",
       "      <td>0</td>\n",
       "      <td>0</td>\n",
       "    </tr>\n",
       "  </tbody>\n",
       "</table>\n",
       "<p>5 rows × 31 columns</p>\n",
       "</div>"
      ],
      "text/plain": [
       "       age  time_in_hospital  num_lab_procedures  num_procedures  \\\n",
       "44748    2          0.240492           -0.252704       -0.815153   \n",
       "11187    2         -0.776802           -0.453464        0.893852   \n",
       "45442    3         -0.437704           -2.059545       -0.245485   \n",
       "31492    2          0.579589           -0.604034       -0.815153   \n",
       "96962    3          0.579589            1.303187       -0.245485   \n",
       "\n",
       "       num_medications  number_diagnoses  max_glu_serum  A1Cresult  metformin  \\\n",
       "44748         0.033393          0.880130              1          1          1   \n",
       "11187        -0.923796         -0.621176              1          1          0   \n",
       "45442        -1.163093         -0.120741              1          1          1   \n",
       "31492         0.153042         -1.121612              1          1          1   \n",
       "96962         1.947772          0.880130              1          1          0   \n",
       "\n",
       "       repaglinide  ...  readmitted  race_Caucasian  race_Other  gender_Male  \\\n",
       "44748            0  ...           0               0           0            1   \n",
       "11187            0  ...           0               0           0            1   \n",
       "45442            0  ...           0               0           1            0   \n",
       "31492            0  ...           0               1           0            0   \n",
       "96962            0  ...           0               1           0            1   \n",
       "\n",
       "       gender_Unknown/Invalid  admission_type_id_Emergency  \\\n",
       "44748                       0                            1   \n",
       "11187                       0                            1   \n",
       "45442                       0                            1   \n",
       "31492                       0                            1   \n",
       "96962                       0                            1   \n",
       "\n",
       "       admission_type_id_Other  discharge_disposition_id_Other  \\\n",
       "44748                        0                               0   \n",
       "11187                        0                               0   \n",
       "45442                        0                               0   \n",
       "31492                        0                               0   \n",
       "96962                        0                               0   \n",
       "\n",
       "       admission_source_id_Other  admission_source_id_Referral  \n",
       "44748                          0                             0  \n",
       "11187                          0                             0  \n",
       "45442                          0                             0  \n",
       "31492                          1                             0  \n",
       "96962                          0                             0  \n",
       "\n",
       "[5 rows x 31 columns]"
      ]
     },
     "execution_count": 91,
     "metadata": {},
     "output_type": "execute_result"
    }
   ],
   "source": [
    "train_data.head()"
   ]
  },
  {
   "cell_type": "code",
   "execution_count": 92,
   "id": "3fabd51a-d5ca-4108-a7cf-b847a7b0c874",
   "metadata": {
    "tags": []
   },
   "outputs": [
    {
     "data": {
      "text/html": [
       "<div>\n",
       "<style scoped>\n",
       "    .dataframe tbody tr th:only-of-type {\n",
       "        vertical-align: middle;\n",
       "    }\n",
       "\n",
       "    .dataframe tbody tr th {\n",
       "        vertical-align: top;\n",
       "    }\n",
       "\n",
       "    .dataframe thead th {\n",
       "        text-align: right;\n",
       "    }\n",
       "</style>\n",
       "<table border=\"1\" class=\"dataframe\">\n",
       "  <thead>\n",
       "    <tr style=\"text-align: right;\">\n",
       "      <th></th>\n",
       "      <th>age</th>\n",
       "      <th>time_in_hospital</th>\n",
       "      <th>num_lab_procedures</th>\n",
       "      <th>num_procedures</th>\n",
       "      <th>num_medications</th>\n",
       "      <th>number_diagnoses</th>\n",
       "      <th>max_glu_serum</th>\n",
       "      <th>A1Cresult</th>\n",
       "      <th>metformin</th>\n",
       "      <th>repaglinide</th>\n",
       "      <th>...</th>\n",
       "      <th>readmitted</th>\n",
       "      <th>race_Caucasian</th>\n",
       "      <th>race_Other</th>\n",
       "      <th>gender_Male</th>\n",
       "      <th>gender_Unknown/Invalid</th>\n",
       "      <th>admission_type_id_Emergency</th>\n",
       "      <th>admission_type_id_Other</th>\n",
       "      <th>discharge_disposition_id_Other</th>\n",
       "      <th>admission_source_id_Other</th>\n",
       "      <th>admission_source_id_Referral</th>\n",
       "    </tr>\n",
       "  </thead>\n",
       "  <tbody>\n",
       "    <tr>\n",
       "      <th>0</th>\n",
       "      <td>0</td>\n",
       "      <td>-1.114571</td>\n",
       "      <td>-0.105686</td>\n",
       "      <td>-0.810436</td>\n",
       "      <td>-1.777490</td>\n",
       "      <td>-3.138599</td>\n",
       "      <td>1</td>\n",
       "      <td>1</td>\n",
       "      <td>0</td>\n",
       "      <td>0</td>\n",
       "      <td>...</td>\n",
       "      <td>0</td>\n",
       "      <td>1</td>\n",
       "      <td>0</td>\n",
       "      <td>0</td>\n",
       "      <td>0</td>\n",
       "      <td>0</td>\n",
       "      <td>1</td>\n",
       "      <td>0</td>\n",
       "      <td>0</td>\n",
       "      <td>1</td>\n",
       "    </tr>\n",
       "    <tr>\n",
       "      <th>1</th>\n",
       "      <td>0</td>\n",
       "      <td>-0.436485</td>\n",
       "      <td>0.795089</td>\n",
       "      <td>-0.810436</td>\n",
       "      <td>0.279574</td>\n",
       "      <td>0.878988</td>\n",
       "      <td>1</td>\n",
       "      <td>1</td>\n",
       "      <td>0</td>\n",
       "      <td>0</td>\n",
       "      <td>...</td>\n",
       "      <td>0</td>\n",
       "      <td>1</td>\n",
       "      <td>0</td>\n",
       "      <td>0</td>\n",
       "      <td>0</td>\n",
       "      <td>1</td>\n",
       "      <td>0</td>\n",
       "      <td>0</td>\n",
       "      <td>0</td>\n",
       "      <td>0</td>\n",
       "    </tr>\n",
       "    <tr>\n",
       "      <th>4</th>\n",
       "      <td>2</td>\n",
       "      <td>-1.114571</td>\n",
       "      <td>0.394744</td>\n",
       "      <td>-0.810436</td>\n",
       "      <td>-0.930463</td>\n",
       "      <td>-1.129806</td>\n",
       "      <td>1</td>\n",
       "      <td>1</td>\n",
       "      <td>0</td>\n",
       "      <td>0</td>\n",
       "      <td>...</td>\n",
       "      <td>0</td>\n",
       "      <td>1</td>\n",
       "      <td>0</td>\n",
       "      <td>1</td>\n",
       "      <td>0</td>\n",
       "      <td>1</td>\n",
       "      <td>0</td>\n",
       "      <td>0</td>\n",
       "      <td>0</td>\n",
       "      <td>0</td>\n",
       "    </tr>\n",
       "    <tr>\n",
       "      <th>5</th>\n",
       "      <td>2</td>\n",
       "      <td>-0.436485</td>\n",
       "      <td>-0.606117</td>\n",
       "      <td>2.591455</td>\n",
       "      <td>0.037567</td>\n",
       "      <td>0.878988</td>\n",
       "      <td>1</td>\n",
       "      <td>1</td>\n",
       "      <td>0</td>\n",
       "      <td>0</td>\n",
       "      <td>...</td>\n",
       "      <td>0</td>\n",
       "      <td>1</td>\n",
       "      <td>0</td>\n",
       "      <td>1</td>\n",
       "      <td>0</td>\n",
       "      <td>1</td>\n",
       "      <td>0</td>\n",
       "      <td>0</td>\n",
       "      <td>0</td>\n",
       "      <td>1</td>\n",
       "    </tr>\n",
       "    <tr>\n",
       "      <th>6</th>\n",
       "      <td>3</td>\n",
       "      <td>-0.097443</td>\n",
       "      <td>1.345563</td>\n",
       "      <td>-0.243454</td>\n",
       "      <td>0.642585</td>\n",
       "      <td>-0.125409</td>\n",
       "      <td>1</td>\n",
       "      <td>1</td>\n",
       "      <td>1</td>\n",
       "      <td>0</td>\n",
       "      <td>...</td>\n",
       "      <td>0</td>\n",
       "      <td>1</td>\n",
       "      <td>0</td>\n",
       "      <td>1</td>\n",
       "      <td>0</td>\n",
       "      <td>0</td>\n",
       "      <td>0</td>\n",
       "      <td>0</td>\n",
       "      <td>0</td>\n",
       "      <td>1</td>\n",
       "    </tr>\n",
       "  </tbody>\n",
       "</table>\n",
       "<p>5 rows × 31 columns</p>\n",
       "</div>"
      ],
      "text/plain": [
       "   age  time_in_hospital  num_lab_procedures  num_procedures  num_medications  \\\n",
       "0    0         -1.114571           -0.105686       -0.810436        -1.777490   \n",
       "1    0         -0.436485            0.795089       -0.810436         0.279574   \n",
       "4    2         -1.114571            0.394744       -0.810436        -0.930463   \n",
       "5    2         -0.436485           -0.606117        2.591455         0.037567   \n",
       "6    3         -0.097443            1.345563       -0.243454         0.642585   \n",
       "\n",
       "   number_diagnoses  max_glu_serum  A1Cresult  metformin  repaglinide  ...  \\\n",
       "0         -3.138599              1          1          0            0  ...   \n",
       "1          0.878988              1          1          0            0  ...   \n",
       "4         -1.129806              1          1          0            0  ...   \n",
       "5          0.878988              1          1          0            0  ...   \n",
       "6         -0.125409              1          1          1            0  ...   \n",
       "\n",
       "   readmitted  race_Caucasian  race_Other  gender_Male  \\\n",
       "0           0               1           0            0   \n",
       "1           0               1           0            0   \n",
       "4           0               1           0            1   \n",
       "5           0               1           0            1   \n",
       "6           0               1           0            1   \n",
       "\n",
       "   gender_Unknown/Invalid  admission_type_id_Emergency  \\\n",
       "0                       0                            0   \n",
       "1                       0                            1   \n",
       "4                       0                            1   \n",
       "5                       0                            1   \n",
       "6                       0                            0   \n",
       "\n",
       "   admission_type_id_Other  discharge_disposition_id_Other  \\\n",
       "0                        1                               0   \n",
       "1                        0                               0   \n",
       "4                        0                               0   \n",
       "5                        0                               0   \n",
       "6                        0                               0   \n",
       "\n",
       "   admission_source_id_Other  admission_source_id_Referral  \n",
       "0                          0                             1  \n",
       "1                          0                             0  \n",
       "4                          0                             0  \n",
       "5                          0                             1  \n",
       "6                          0                             1  \n",
       "\n",
       "[5 rows x 31 columns]"
      ]
     },
     "execution_count": 92,
     "metadata": {},
     "output_type": "execute_result"
    }
   ],
   "source": [
    "valid_data.head()"
   ]
  },
  {
   "cell_type": "code",
   "execution_count": 93,
   "id": "40ad4d9a-3f6d-4fab-bc10-03e30208be48",
   "metadata": {
    "tags": []
   },
   "outputs": [],
   "source": [
    "train_data.to_csv('./train_data.csv', index=False)\n",
    "valid_data.to_csv('./valid_data.csv', index=False)"
   ]
  },
  {
   "cell_type": "code",
   "execution_count": 94,
   "id": "6920a4f4-a9c6-4563-b5b9-9375b7599f88",
   "metadata": {
    "tags": []
   },
   "outputs": [
    {
     "data": {
      "text/plain": [
       "0    32606\n",
       "1     3138\n",
       "Name: readmitted, dtype: int64"
      ]
     },
     "execution_count": 94,
     "metadata": {},
     "output_type": "execute_result"
    }
   ],
   "source": [
    "train_data['readmitted'].value_counts()"
   ]
  },
  {
   "cell_type": "code",
   "execution_count": 95,
   "id": "6c55bc8f-ed34-4f02-9b0c-f1129fbae961",
   "metadata": {
    "tags": []
   },
   "outputs": [],
   "source": [
    "features_train = train_data.drop(columns=['readmitted'])\n",
    "target_train = train_data['readmitted']"
   ]
  },
  {
   "cell_type": "code",
   "execution_count": 96,
   "id": "db9a078a-4dd2-4755-967a-f5c7adb98780",
   "metadata": {
    "tags": []
   },
   "outputs": [],
   "source": [
    "features_test = valid_data.drop(columns=['readmitted'])\n",
    "target_test = valid_data['readmitted']"
   ]
  },
  {
   "cell_type": "code",
   "execution_count": 97,
   "id": "1986741f-867b-44e5-be0f-f621074207ec",
   "metadata": {
    "tags": []
   },
   "outputs": [],
   "source": [
    "rus = RandomUnderSampler(random_state=42)\n",
    "X_ros, y_ros = rus.fit_resample(features_train, target_train)"
   ]
  },
  {
   "cell_type": "code",
   "execution_count": 98,
   "id": "857ec8a4-ce07-4fd0-8483-498e783140b0",
   "metadata": {
    "tags": []
   },
   "outputs": [
    {
     "name": "stdout",
     "output_type": "stream",
     "text": [
      "Accuracy:  0.9116495076096688\n"
     ]
    }
   ],
   "source": [
    "rf = RandomForestClassifier()\n",
    "\n",
    "rf.fit(features_train, target_train)\n",
    "preds = rf.predict(features_test)\n",
    "\n",
    "print('Accuracy: ', accuracy_score(target_test,preds))"
   ]
  },
  {
   "cell_type": "code",
   "execution_count": 99,
   "id": "03a78a52-225f-4072-b3ae-520ffa104a1a",
   "metadata": {
    "tags": []
   },
   "outputs": [
    {
     "data": {
      "text/plain": [
       "<sklearn.metrics._plot.confusion_matrix.ConfusionMatrixDisplay at 0x1ec91330810>"
      ]
     },
     "execution_count": 99,
     "metadata": {},
     "output_type": "execute_result"
    },
    {
     "data": {
      "image/png": "[encoded data removed]",
      "text/plain": [
       "<Figure size 640x480 with 2 Axes>"
      ]
     },
     "metadata": {},
     "output_type": "display_data"
    }
   ],
   "source": [
    "cm = confusion_matrix(target_test, preds)\n",
    "ConfusionMatrixDisplay(cm).plot()"
   ]
  },
  {
   "cell_type": "code",
   "execution_count": 85,
   "id": "c6314dc5-3f88-4201-90fb-5f1ef7b8d5a8",
   "metadata": {
    "tags": []
   },
   "outputs": [
    {
     "name": "stdout",
     "output_type": "stream",
     "text": [
      "Accuracy:  0.9119457266750595\n"
     ]
    },
    {
     "name": "stderr",
     "output_type": "stream",
     "text": [
      "C:\\ProgramData\\anaconda3\\Lib\\site-packages\\sklearn\\linear_model\\_logistic.py:460: ConvergenceWarning: lbfgs failed to converge (status=1):\n",
      "STOP: TOTAL NO. of ITERATIONS REACHED LIMIT.\n",
      "\n",
      "Increase the number of iterations (max_iter) or scale the data as shown in:\n",
      "    https://scikit-learn.org/stable/modules/preprocessing.html\n",
      "Please also refer to the documentation for alternative solver options:\n",
      "    https://scikit-learn.org/stable/modules/linear_model.html#logistic-regression\n",
      "  n_iter_i = _check_optimize_result(\n"
     ]
    }
   ],
   "source": [
    "LR = LogisticRegression()\n",
    "\n",
    "LR.fit(features_train,target_train)\n",
    "\n",
    "preds = LR.predict(features_test)\n",
    "\n",
    "print('Accuracy: ', accuracy_score(target_test,preds))"
   ]
  },
  {
   "cell_type": "code",
   "execution_count": 86,
   "id": "d2d3456b-fab1-403a-a43e-f8262d93efa8",
   "metadata": {
    "tags": []
   },
   "outputs": [
    {
     "data": {
      "text/plain": [
       "<sklearn.metrics._plot.confusion_matrix.ConfusionMatrixDisplay at 0x1ec913bf650>"
      ]
     },
     "execution_count": 86,
     "metadata": {},
     "output_type": "execute_result"
    },
    {
     "data": {
      "image/png": "[encoded data removed]",
      "text/plain": [
       "<Figure size 640x480 with 2 Axes>"
      ]
     },
     "metadata": {},
     "output_type": "display_data"
    }
   ],
   "source": [
    "cm = confusion_matrix(target_test, preds)\n",
    "ConfusionMatrixDisplay(cm).plot()"
   ]
  },
  {
   "cell_type": "code",
   "execution_count": null,
   "id": "47fce7d3-486e-4735-a8ee-a2922f58a520",
   "metadata": {},
   "outputs": [],
   "source": []
  },
  {
   "cell_type": "code",
   "execution_count": null,
   "id": "0c5f8335-11d5-4def-b535-0993224f9a40",
   "metadata": {},
   "outputs": [],
   "source": []
  },
  {
   "cell_type": "code",
   "execution_count": null,
   "id": "7f319f1a-93d1-4a08-996d-1296ba807a81",
   "metadata": {},
   "outputs": [],
   "source": []
  },
  {
   "cell_type": "code",
   "execution_count": null,
   "id": "064c9003-344a-4306-8f3b-720a3adf4aad",
   "metadata": {
    "tags": []
   },
   "outputs": [],
   "source": [
    "from imblearn.over_sampling import RandomOverSampler, SMOTE, ADASYN"
   ]
  },
  {
   "cell_type": "code",
   "execution_count": null,
   "id": "9a4da8a2-65fd-418d-8726-b25b174286c0",
   "metadata": {
    "tags": []
   },
   "outputs": [],
   "source": [
    "ros = RandomOverSampler(random_state=42)\n",
    "X_ros, y_ros = rus.fit_resample(X_train, y_train)"
   ]
  },
  {
   "cell_type": "code",
   "execution_count": null,
   "id": "8aeaa3d7-5834-4fdb-82e9-eee1a05537de",
   "metadata": {
    "tags": []
   },
   "outputs": [],
   "source": [
    "X_rus.shape"
   ]
  },
  {
   "cell_type": "code",
   "execution_count": null,
   "id": "c7aa9de8-5013-4384-96f9-933daaac4cab",
   "metadata": {
    "tags": []
   },
   "outputs": [],
   "source": [
    "y_rus.value_counts()"
   ]
  },
  {
   "cell_type": "code",
   "execution_count": null,
   "id": "291f3860-c885-4107-9553-91e7fc69597a",
   "metadata": {
    "tags": []
   },
   "outputs": [],
   "source": [
    "numeric_features = df.select_dtypes(include=[np.number]).columns.tolist()\n",
    "numeric_features"
   ]
  },
  {
   "cell_type": "code",
   "execution_count": null,
   "id": "5856ca5f-31ed-4b51-a1da-326e02a9776d",
   "metadata": {
    "tags": []
   },
   "outputs": [],
   "source": [
    "col_names_2b_transformed = ['time_in_hospital','num_lab_procedures','num_procedures','num_medications','number_inpatient','number_diagnoses']"
   ]
  },
  {
   "cell_type": "code",
   "execution_count": null,
   "id": "ed47d903-09f5-4c10-8069-4c330817753e",
   "metadata": {
    "tags": []
   },
   "outputs": [],
   "source": [
    "X_rus_scaled = X_rus[col_names_2b_transformed]\n",
    "X_test_scaled = X_test[col_names_2b_transformed]"
   ]
  },
  {
   "cell_type": "code",
   "execution_count": null,
   "id": "badfe900-1677-4688-9510-0eef3ebea346",
   "metadata": {
    "tags": []
   },
   "outputs": [],
   "source": [
    "from sklearn.preprocessing import StandardScaler"
   ]
  },
  {
   "cell_type": "code",
   "execution_count": null,
   "id": "2a84a097-0cc0-4774-84c8-de2f9b578941",
   "metadata": {
    "tags": []
   },
   "outputs": [],
   "source": [
    "scaler = StandardScaler()\n",
    "X_rus_scaled = pd.DataFrame(scaler.fit_transform(X_rus_scaled),\n",
    "                       index=X_rus_scaled.index, columns=X_rus_scaled.columns)\n",
    "X_test_scaled = pd.DataFrame(scaler.transform(X_test_scaled),\n",
    "                       index=X_test_scaled.index, columns=X_test_scaled.columns)"
   ]
  },
  {
   "cell_type": "code",
   "execution_count": null,
   "id": "121e7ea8-376a-4ba8-87e9-624900688ab1",
   "metadata": {
    "tags": []
   },
   "outputs": [],
   "source": [
    "X_rus_scaled.head()"
   ]
  },
  {
   "cell_type": "code",
   "execution_count": null,
   "id": "b46106dd-352f-4d69-abc6-fd22bd791b28",
   "metadata": {
    "tags": []
   },
   "outputs": [],
   "source": [
    "selected_columns = X_rus.columns[6:]"
   ]
  },
  {
   "cell_type": "code",
   "execution_count": null,
   "id": "00de6472-2cc0-4310-a46b-1ad64a4c2410",
   "metadata": {
    "tags": []
   },
   "outputs": [],
   "source": [
    "selected_columns"
   ]
  },
  {
   "cell_type": "code",
   "execution_count": null,
   "id": "afc31b99-c944-4a8d-8462-f4bba51f14d7",
   "metadata": {
    "tags": []
   },
   "outputs": [],
   "source": [
    "for column in selected_columns:\n",
    "    X_rus_scaled[column] = X_rus[column]\n",
    "    X_test_scaled[column] = X_test[column]"
   ]
  },
  {
   "cell_type": "code",
   "execution_count": null,
   "id": "d33ef043-1f7a-43ca-8d4e-b4fea27a879d",
   "metadata": {
    "tags": []
   },
   "outputs": [],
   "source": [
    "X_rus_scaled.head()"
   ]
  },
  {
   "cell_type": "code",
   "execution_count": null,
   "id": "a6e1c667-6de9-4717-9935-d4ba601b2e05",
   "metadata": {
    "tags": []
   },
   "outputs": [],
   "source": [
    "y_rus.value_counts()"
   ]
  },
  {
   "cell_type": "code",
   "execution_count": null,
   "id": "d9d1ec97-5757-459e-9aca-0a41ed72652b",
   "metadata": {
    "tags": []
   },
   "outputs": [],
   "source": [
    "X_test_scaled.head()"
   ]
  },
  {
   "cell_type": "code",
   "execution_count": null,
   "id": "032848ef-0b7c-473d-9d17-33da8b03d7f0",
   "metadata": {
    "tags": []
   },
   "outputs": [],
   "source": [
    "from xgboost import XGBClassifier"
   ]
  },
  {
   "cell_type": "code",
   "execution_count": null,
   "id": "698f11f3-c35f-4009-98b7-8f48b7b15d7b",
   "metadata": {
    "tags": []
   },
   "outputs": [],
   "source": [
    "clf = XGBClassifier()\n",
    "clf.fit(X_rus_scaled, y_rus)"
   ]
  },
  {
   "cell_type": "code",
   "execution_count": null,
   "id": "25e3b36c-8a08-42d6-a5d8-6ce86823e27f",
   "metadata": {
    "tags": []
   },
   "outputs": [],
   "source": [
    "outcome = pd.DataFrame()\n",
    "outcome['actual'] = y_test\n",
    "outcome['predicted'] = clf.predict(X_test_scaled)"
   ]
  },
  {
   "cell_type": "code",
   "execution_count": null,
   "id": "aa1a1a28-132a-4156-974b-4d1e427ee087",
   "metadata": {
    "tags": []
   },
   "outputs": [],
   "source": [
    "from sklearn.metrics import confusion_matrix,roc_curve, roc_auc_score,accuracy_score, recall_score, precision_score, f1_score,precision_recall_curve,ConfusionMatrixDisplay,classification_report"
   ]
  },
  {
   "cell_type": "code",
   "execution_count": null,
   "id": "b4099c16-f07a-42e1-b5d9-16e23b9f2be4",
   "metadata": {
    "tags": []
   },
   "outputs": [],
   "source": [
    "print(\"Accuracy:\", accuracy_score(y_test, clf.predict(X_test_scaled)))\n",
    "print(\"Precision:\", recall_score(y_test, clf.predict(X_test_scaled)))"
   ]
  },
  {
   "cell_type": "code",
   "execution_count": null,
   "id": "e94f492a-8509-4b00-bba2-19bab2f72068",
   "metadata": {
    "tags": []
   },
   "outputs": [],
   "source": [
    "cm = confusion_matrix(outcome['actual'], outcome['predicted'])\n",
    "ConfusionMatrixDisplay(cm).plot()"
   ]
  },
  {
   "cell_type": "code",
   "execution_count": null,
   "id": "b8599fca-cc13-48fd-b167-0897e9f3ecb1",
   "metadata": {
    "tags": []
   },
   "outputs": [],
   "source": [
    "print(classification_report(outcome['actual'], outcome['predicted']))"
   ]
  },
  {
   "cell_type": "code",
   "execution_count": null,
   "id": "7be8ec68-03f9-47c7-b038-1b79f21104ce",
   "metadata": {
    "tags": []
   },
   "outputs": [],
   "source": [
    "print(roc_auc_score(y_test, clf.predict_proba(X_test)[:,1]))"
   ]
  },
  {
   "cell_type": "code",
   "execution_count": null,
   "id": "88230952-7277-48fd-91ea-99f41523e0c3",
   "metadata": {},
   "outputs": [],
   "source": []
  }
 ],
 "metadata": {
  "kernelspec": {
   "display_name": "Python 3 (ipykernel)",
   "language": "python",
   "name": "python3"
  },
  "language_info": {
   "codemirror_mode": {
    "name": "ipython",
    "version": 3
   },
   "file_extension": ".py",
   "mimetype": "text/x-python",
   "name": "python",
   "nbconvert_exporter": "python",
   "pygments_lexer": "ipython3",
   "version": "3.11.4"
  }
 },
 "nbformat": 4,
 "nbformat_minor": 5
}
